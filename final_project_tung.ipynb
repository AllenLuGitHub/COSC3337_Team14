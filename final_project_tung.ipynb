{
 "cells": [
  {
   "cell_type": "code",
   "execution_count": 83,
   "id": "ff284378",
   "metadata": {},
   "outputs": [],
   "source": [
    "import numpy as np\n",
    "import pandas as pd\n",
    "import matplotlib.pyplot as plt\n",
    "import seaborn as sns\n",
    "\n",
    "color = 'RdBu'\n"
   ]
  },
  {
   "cell_type": "code",
   "execution_count": 84,
   "id": "3e109acd",
   "metadata": {},
   "outputs": [],
   "source": [
    "files = ['xaa.dat', 'xab.dat', 'xac.dat', 'xad.dat', 'xae.dat', 'xaf.dat', 'xag.dat', 'xah.dat', 'xai.dat']\n",
    "attributes = ['Compactness', 'Circularity', 'Dist_Circ', 'Radius_Ratio', 'PR_Axis_Ratio', 'Max_Length_Ratio', 'Scatter_Ratio',\n",
    "             'Enlongatedness', 'PR_Axis_Rectangularity', 'Max_Length_Rectangularity', 'Major_Scaled_Var', 'Minor_Scaled_Var',\n",
    "             'Scaled Radius Gyration', 'Major_Skew', 'Minor_Skew', 'Minor_Kurtosis', 'Major_Kurtosis', 'Hollow_Ratio',\n",
    "             'Vehicle_Type']\n",
    "car_types = ['van', 'saab', 'bus', 'opel']"
   ]
  },
  {
   "cell_type": "code",
   "execution_count": 85,
   "id": "ccad5257",
   "metadata": {},
   "outputs": [],
   "source": [
    "vehicle_df = pd.DataFrame(columns=attributes)\n",
    "for file in files:\n",
    "    f = open(file, 'r')\n",
    "    for line in f:\n",
    "        l = line.strip().split(' ')\n",
    "        vehicle_df.loc[len(vehicle_df.index)] = list(map(lambda i: i if i in car_types else int(i), l))"
   ]
  },
  {
   "cell_type": "code",
   "execution_count": 86,
   "id": "dd0860c2",
   "metadata": {},
   "outputs": [],
   "source": [
    "for attribute in [att for att in attributes if att != 'Vehicle_Type']:\n",
    "    vehicle_df[attribute] = vehicle_df[attribute].astype('int')"
   ]
  },
  {
   "cell_type": "code",
   "execution_count": 87,
   "id": "9788ba9f",
   "metadata": {},
   "outputs": [
    {
     "data": {
      "text/html": [
       "<div>\n",
       "<style scoped>\n",
       "    .dataframe tbody tr th:only-of-type {\n",
       "        vertical-align: middle;\n",
       "    }\n",
       "\n",
       "    .dataframe tbody tr th {\n",
       "        vertical-align: top;\n",
       "    }\n",
       "\n",
       "    .dataframe thead th {\n",
       "        text-align: right;\n",
       "    }\n",
       "</style>\n",
       "<table border=\"1\" class=\"dataframe\">\n",
       "  <thead>\n",
       "    <tr style=\"text-align: right;\">\n",
       "      <th></th>\n",
       "      <th>Compactness</th>\n",
       "      <th>Circularity</th>\n",
       "      <th>Dist_Circ</th>\n",
       "      <th>Radius_Ratio</th>\n",
       "      <th>PR_Axis_Ratio</th>\n",
       "      <th>Max_Length_Ratio</th>\n",
       "      <th>Scatter_Ratio</th>\n",
       "      <th>Enlongatedness</th>\n",
       "      <th>PR_Axis_Rectangularity</th>\n",
       "      <th>Max_Length_Rectangularity</th>\n",
       "      <th>Major_Scaled_Var</th>\n",
       "      <th>Minor_Scaled_Var</th>\n",
       "      <th>Scaled Radius Gyration</th>\n",
       "      <th>Major_Skew</th>\n",
       "      <th>Minor_Skew</th>\n",
       "      <th>Minor_Kurtosis</th>\n",
       "      <th>Major_Kurtosis</th>\n",
       "      <th>Hollow_Ratio</th>\n",
       "      <th>Vehicle_Type</th>\n",
       "    </tr>\n",
       "  </thead>\n",
       "  <tbody>\n",
       "    <tr>\n",
       "      <th>0</th>\n",
       "      <td>95</td>\n",
       "      <td>48</td>\n",
       "      <td>83</td>\n",
       "      <td>178</td>\n",
       "      <td>72</td>\n",
       "      <td>10</td>\n",
       "      <td>162</td>\n",
       "      <td>42</td>\n",
       "      <td>20</td>\n",
       "      <td>159</td>\n",
       "      <td>176</td>\n",
       "      <td>379</td>\n",
       "      <td>184</td>\n",
       "      <td>70</td>\n",
       "      <td>6</td>\n",
       "      <td>16</td>\n",
       "      <td>187</td>\n",
       "      <td>197</td>\n",
       "      <td>van</td>\n",
       "    </tr>\n",
       "    <tr>\n",
       "      <th>1</th>\n",
       "      <td>91</td>\n",
       "      <td>41</td>\n",
       "      <td>84</td>\n",
       "      <td>141</td>\n",
       "      <td>57</td>\n",
       "      <td>9</td>\n",
       "      <td>149</td>\n",
       "      <td>45</td>\n",
       "      <td>19</td>\n",
       "      <td>143</td>\n",
       "      <td>170</td>\n",
       "      <td>330</td>\n",
       "      <td>158</td>\n",
       "      <td>72</td>\n",
       "      <td>9</td>\n",
       "      <td>14</td>\n",
       "      <td>189</td>\n",
       "      <td>199</td>\n",
       "      <td>van</td>\n",
       "    </tr>\n",
       "    <tr>\n",
       "      <th>2</th>\n",
       "      <td>104</td>\n",
       "      <td>50</td>\n",
       "      <td>106</td>\n",
       "      <td>209</td>\n",
       "      <td>66</td>\n",
       "      <td>10</td>\n",
       "      <td>207</td>\n",
       "      <td>32</td>\n",
       "      <td>23</td>\n",
       "      <td>158</td>\n",
       "      <td>223</td>\n",
       "      <td>635</td>\n",
       "      <td>220</td>\n",
       "      <td>73</td>\n",
       "      <td>14</td>\n",
       "      <td>9</td>\n",
       "      <td>188</td>\n",
       "      <td>196</td>\n",
       "      <td>saab</td>\n",
       "    </tr>\n",
       "    <tr>\n",
       "      <th>3</th>\n",
       "      <td>93</td>\n",
       "      <td>41</td>\n",
       "      <td>82</td>\n",
       "      <td>159</td>\n",
       "      <td>63</td>\n",
       "      <td>9</td>\n",
       "      <td>144</td>\n",
       "      <td>46</td>\n",
       "      <td>19</td>\n",
       "      <td>143</td>\n",
       "      <td>160</td>\n",
       "      <td>309</td>\n",
       "      <td>127</td>\n",
       "      <td>63</td>\n",
       "      <td>6</td>\n",
       "      <td>10</td>\n",
       "      <td>199</td>\n",
       "      <td>207</td>\n",
       "      <td>van</td>\n",
       "    </tr>\n",
       "    <tr>\n",
       "      <th>4</th>\n",
       "      <td>85</td>\n",
       "      <td>44</td>\n",
       "      <td>70</td>\n",
       "      <td>205</td>\n",
       "      <td>103</td>\n",
       "      <td>52</td>\n",
       "      <td>149</td>\n",
       "      <td>45</td>\n",
       "      <td>19</td>\n",
       "      <td>144</td>\n",
       "      <td>241</td>\n",
       "      <td>325</td>\n",
       "      <td>188</td>\n",
       "      <td>127</td>\n",
       "      <td>9</td>\n",
       "      <td>11</td>\n",
       "      <td>180</td>\n",
       "      <td>183</td>\n",
       "      <td>bus</td>\n",
       "    </tr>\n",
       "  </tbody>\n",
       "</table>\n",
       "</div>"
      ],
      "text/plain": [
       "   Compactness  Circularity  Dist_Circ  Radius_Ratio  PR_Axis_Ratio  \\\n",
       "0           95           48         83           178             72   \n",
       "1           91           41         84           141             57   \n",
       "2          104           50        106           209             66   \n",
       "3           93           41         82           159             63   \n",
       "4           85           44         70           205            103   \n",
       "\n",
       "   Max_Length_Ratio  Scatter_Ratio  Enlongatedness  PR_Axis_Rectangularity  \\\n",
       "0                10            162              42                      20   \n",
       "1                 9            149              45                      19   \n",
       "2                10            207              32                      23   \n",
       "3                 9            144              46                      19   \n",
       "4                52            149              45                      19   \n",
       "\n",
       "   Max_Length_Rectangularity  Major_Scaled_Var  Minor_Scaled_Var  \\\n",
       "0                        159               176               379   \n",
       "1                        143               170               330   \n",
       "2                        158               223               635   \n",
       "3                        143               160               309   \n",
       "4                        144               241               325   \n",
       "\n",
       "   Scaled Radius Gyration  Major_Skew  Minor_Skew  Minor_Kurtosis  \\\n",
       "0                     184          70           6              16   \n",
       "1                     158          72           9              14   \n",
       "2                     220          73          14               9   \n",
       "3                     127          63           6              10   \n",
       "4                     188         127           9              11   \n",
       "\n",
       "   Major_Kurtosis  Hollow_Ratio Vehicle_Type  \n",
       "0             187           197          van  \n",
       "1             189           199          van  \n",
       "2             188           196         saab  \n",
       "3             199           207          van  \n",
       "4             180           183          bus  "
      ]
     },
     "execution_count": 87,
     "metadata": {},
     "output_type": "execute_result"
    }
   ],
   "source": [
    "vehicle_df.head()"
   ]
  },
  {
   "cell_type": "code",
   "execution_count": 88,
   "id": "fc7a0ec9",
   "metadata": {
    "scrolled": true
   },
   "outputs": [
    {
     "data": {
      "text/html": [
       "<div>\n",
       "<style scoped>\n",
       "    .dataframe tbody tr th:only-of-type {\n",
       "        vertical-align: middle;\n",
       "    }\n",
       "\n",
       "    .dataframe tbody tr th {\n",
       "        vertical-align: top;\n",
       "    }\n",
       "\n",
       "    .dataframe thead th {\n",
       "        text-align: right;\n",
       "    }\n",
       "</style>\n",
       "<table border=\"1\" class=\"dataframe\">\n",
       "  <thead>\n",
       "    <tr style=\"text-align: right;\">\n",
       "      <th></th>\n",
       "      <th>Compactness</th>\n",
       "      <th>Circularity</th>\n",
       "      <th>Dist_Circ</th>\n",
       "      <th>Radius_Ratio</th>\n",
       "      <th>PR_Axis_Ratio</th>\n",
       "      <th>Max_Length_Ratio</th>\n",
       "      <th>Scatter_Ratio</th>\n",
       "      <th>Enlongatedness</th>\n",
       "      <th>PR_Axis_Rectangularity</th>\n",
       "      <th>Max_Length_Rectangularity</th>\n",
       "      <th>Major_Scaled_Var</th>\n",
       "      <th>Minor_Scaled_Var</th>\n",
       "      <th>Scaled Radius Gyration</th>\n",
       "      <th>Major_Skew</th>\n",
       "      <th>Minor_Skew</th>\n",
       "      <th>Minor_Kurtosis</th>\n",
       "      <th>Major_Kurtosis</th>\n",
       "      <th>Hollow_Ratio</th>\n",
       "    </tr>\n",
       "  </thead>\n",
       "  <tbody>\n",
       "    <tr>\n",
       "      <th>count</th>\n",
       "      <td>846.000000</td>\n",
       "      <td>846.000000</td>\n",
       "      <td>846.000000</td>\n",
       "      <td>846.000000</td>\n",
       "      <td>846.000000</td>\n",
       "      <td>846.000000</td>\n",
       "      <td>846.000000</td>\n",
       "      <td>846.000000</td>\n",
       "      <td>846.000000</td>\n",
       "      <td>846.000000</td>\n",
       "      <td>846.000000</td>\n",
       "      <td>846.000000</td>\n",
       "      <td>846.00000</td>\n",
       "      <td>846.000000</td>\n",
       "      <td>846.000000</td>\n",
       "      <td>846.000000</td>\n",
       "      <td>846.000000</td>\n",
       "      <td>846.000000</td>\n",
       "    </tr>\n",
       "    <tr>\n",
       "      <th>mean</th>\n",
       "      <td>93.678487</td>\n",
       "      <td>44.861702</td>\n",
       "      <td>82.088652</td>\n",
       "      <td>168.940898</td>\n",
       "      <td>61.693853</td>\n",
       "      <td>8.567376</td>\n",
       "      <td>168.839243</td>\n",
       "      <td>40.933806</td>\n",
       "      <td>20.582742</td>\n",
       "      <td>147.998818</td>\n",
       "      <td>188.625296</td>\n",
       "      <td>439.911348</td>\n",
       "      <td>174.70331</td>\n",
       "      <td>72.462175</td>\n",
       "      <td>6.377069</td>\n",
       "      <td>12.599291</td>\n",
       "      <td>188.932624</td>\n",
       "      <td>195.632388</td>\n",
       "    </tr>\n",
       "    <tr>\n",
       "      <th>std</th>\n",
       "      <td>8.234474</td>\n",
       "      <td>6.169866</td>\n",
       "      <td>15.771533</td>\n",
       "      <td>33.472183</td>\n",
       "      <td>7.888251</td>\n",
       "      <td>4.601217</td>\n",
       "      <td>33.244978</td>\n",
       "      <td>7.811560</td>\n",
       "      <td>2.592138</td>\n",
       "      <td>14.515652</td>\n",
       "      <td>31.394837</td>\n",
       "      <td>176.692614</td>\n",
       "      <td>32.54649</td>\n",
       "      <td>7.486974</td>\n",
       "      <td>4.918353</td>\n",
       "      <td>8.931240</td>\n",
       "      <td>6.163949</td>\n",
       "      <td>7.438797</td>\n",
       "    </tr>\n",
       "    <tr>\n",
       "      <th>min</th>\n",
       "      <td>73.000000</td>\n",
       "      <td>33.000000</td>\n",
       "      <td>40.000000</td>\n",
       "      <td>104.000000</td>\n",
       "      <td>47.000000</td>\n",
       "      <td>2.000000</td>\n",
       "      <td>112.000000</td>\n",
       "      <td>26.000000</td>\n",
       "      <td>17.000000</td>\n",
       "      <td>118.000000</td>\n",
       "      <td>130.000000</td>\n",
       "      <td>184.000000</td>\n",
       "      <td>109.00000</td>\n",
       "      <td>59.000000</td>\n",
       "      <td>0.000000</td>\n",
       "      <td>0.000000</td>\n",
       "      <td>176.000000</td>\n",
       "      <td>181.000000</td>\n",
       "    </tr>\n",
       "    <tr>\n",
       "      <th>25%</th>\n",
       "      <td>87.000000</td>\n",
       "      <td>40.000000</td>\n",
       "      <td>70.000000</td>\n",
       "      <td>141.000000</td>\n",
       "      <td>57.000000</td>\n",
       "      <td>7.000000</td>\n",
       "      <td>146.250000</td>\n",
       "      <td>33.000000</td>\n",
       "      <td>19.000000</td>\n",
       "      <td>137.000000</td>\n",
       "      <td>167.000000</td>\n",
       "      <td>318.250000</td>\n",
       "      <td>149.00000</td>\n",
       "      <td>67.000000</td>\n",
       "      <td>2.000000</td>\n",
       "      <td>5.000000</td>\n",
       "      <td>184.000000</td>\n",
       "      <td>190.250000</td>\n",
       "    </tr>\n",
       "    <tr>\n",
       "      <th>50%</th>\n",
       "      <td>93.000000</td>\n",
       "      <td>44.000000</td>\n",
       "      <td>80.000000</td>\n",
       "      <td>167.000000</td>\n",
       "      <td>61.000000</td>\n",
       "      <td>8.000000</td>\n",
       "      <td>157.000000</td>\n",
       "      <td>43.000000</td>\n",
       "      <td>20.000000</td>\n",
       "      <td>146.000000</td>\n",
       "      <td>178.500000</td>\n",
       "      <td>364.000000</td>\n",
       "      <td>173.00000</td>\n",
       "      <td>71.500000</td>\n",
       "      <td>6.000000</td>\n",
       "      <td>11.000000</td>\n",
       "      <td>188.000000</td>\n",
       "      <td>197.000000</td>\n",
       "    </tr>\n",
       "    <tr>\n",
       "      <th>75%</th>\n",
       "      <td>100.000000</td>\n",
       "      <td>49.000000</td>\n",
       "      <td>98.000000</td>\n",
       "      <td>195.000000</td>\n",
       "      <td>65.000000</td>\n",
       "      <td>10.000000</td>\n",
       "      <td>198.000000</td>\n",
       "      <td>46.000000</td>\n",
       "      <td>23.000000</td>\n",
       "      <td>159.000000</td>\n",
       "      <td>217.000000</td>\n",
       "      <td>587.000000</td>\n",
       "      <td>198.00000</td>\n",
       "      <td>75.000000</td>\n",
       "      <td>9.000000</td>\n",
       "      <td>19.000000</td>\n",
       "      <td>193.000000</td>\n",
       "      <td>201.000000</td>\n",
       "    </tr>\n",
       "    <tr>\n",
       "      <th>max</th>\n",
       "      <td>119.000000</td>\n",
       "      <td>59.000000</td>\n",
       "      <td>112.000000</td>\n",
       "      <td>333.000000</td>\n",
       "      <td>138.000000</td>\n",
       "      <td>55.000000</td>\n",
       "      <td>265.000000</td>\n",
       "      <td>61.000000</td>\n",
       "      <td>29.000000</td>\n",
       "      <td>188.000000</td>\n",
       "      <td>320.000000</td>\n",
       "      <td>1018.000000</td>\n",
       "      <td>268.00000</td>\n",
       "      <td>135.000000</td>\n",
       "      <td>22.000000</td>\n",
       "      <td>41.000000</td>\n",
       "      <td>206.000000</td>\n",
       "      <td>211.000000</td>\n",
       "    </tr>\n",
       "  </tbody>\n",
       "</table>\n",
       "</div>"
      ],
      "text/plain": [
       "       Compactness  Circularity   Dist_Circ  Radius_Ratio  PR_Axis_Ratio  \\\n",
       "count   846.000000   846.000000  846.000000    846.000000     846.000000   \n",
       "mean     93.678487    44.861702   82.088652    168.940898      61.693853   \n",
       "std       8.234474     6.169866   15.771533     33.472183       7.888251   \n",
       "min      73.000000    33.000000   40.000000    104.000000      47.000000   \n",
       "25%      87.000000    40.000000   70.000000    141.000000      57.000000   \n",
       "50%      93.000000    44.000000   80.000000    167.000000      61.000000   \n",
       "75%     100.000000    49.000000   98.000000    195.000000      65.000000   \n",
       "max     119.000000    59.000000  112.000000    333.000000     138.000000   \n",
       "\n",
       "       Max_Length_Ratio  Scatter_Ratio  Enlongatedness  \\\n",
       "count        846.000000     846.000000      846.000000   \n",
       "mean           8.567376     168.839243       40.933806   \n",
       "std            4.601217      33.244978        7.811560   \n",
       "min            2.000000     112.000000       26.000000   \n",
       "25%            7.000000     146.250000       33.000000   \n",
       "50%            8.000000     157.000000       43.000000   \n",
       "75%           10.000000     198.000000       46.000000   \n",
       "max           55.000000     265.000000       61.000000   \n",
       "\n",
       "       PR_Axis_Rectangularity  Max_Length_Rectangularity  Major_Scaled_Var  \\\n",
       "count              846.000000                 846.000000        846.000000   \n",
       "mean                20.582742                 147.998818        188.625296   \n",
       "std                  2.592138                  14.515652         31.394837   \n",
       "min                 17.000000                 118.000000        130.000000   \n",
       "25%                 19.000000                 137.000000        167.000000   \n",
       "50%                 20.000000                 146.000000        178.500000   \n",
       "75%                 23.000000                 159.000000        217.000000   \n",
       "max                 29.000000                 188.000000        320.000000   \n",
       "\n",
       "       Minor_Scaled_Var  Scaled Radius Gyration  Major_Skew  Minor_Skew  \\\n",
       "count        846.000000               846.00000  846.000000  846.000000   \n",
       "mean         439.911348               174.70331   72.462175    6.377069   \n",
       "std          176.692614                32.54649    7.486974    4.918353   \n",
       "min          184.000000               109.00000   59.000000    0.000000   \n",
       "25%          318.250000               149.00000   67.000000    2.000000   \n",
       "50%          364.000000               173.00000   71.500000    6.000000   \n",
       "75%          587.000000               198.00000   75.000000    9.000000   \n",
       "max         1018.000000               268.00000  135.000000   22.000000   \n",
       "\n",
       "       Minor_Kurtosis  Major_Kurtosis  Hollow_Ratio  \n",
       "count      846.000000      846.000000    846.000000  \n",
       "mean        12.599291      188.932624    195.632388  \n",
       "std          8.931240        6.163949      7.438797  \n",
       "min          0.000000      176.000000    181.000000  \n",
       "25%          5.000000      184.000000    190.250000  \n",
       "50%         11.000000      188.000000    197.000000  \n",
       "75%         19.000000      193.000000    201.000000  \n",
       "max         41.000000      206.000000    211.000000  "
      ]
     },
     "execution_count": 88,
     "metadata": {},
     "output_type": "execute_result"
    }
   ],
   "source": [
    "vehicle_df.describe()\n"
   ]
  },
  {
   "cell_type": "code",
   "execution_count": 89,
   "id": "9ac83fa4",
   "metadata": {},
   "outputs": [
    {
     "name": "stdout",
     "output_type": "stream",
     "text": [
      "<class 'pandas.core.frame.DataFrame'>\n",
      "Int64Index: 846 entries, 0 to 845\n",
      "Data columns (total 19 columns):\n",
      " #   Column                     Non-Null Count  Dtype \n",
      "---  ------                     --------------  ----- \n",
      " 0   Compactness                846 non-null    int64 \n",
      " 1   Circularity                846 non-null    int64 \n",
      " 2   Dist_Circ                  846 non-null    int64 \n",
      " 3   Radius_Ratio               846 non-null    int64 \n",
      " 4   PR_Axis_Ratio              846 non-null    int64 \n",
      " 5   Max_Length_Ratio           846 non-null    int64 \n",
      " 6   Scatter_Ratio              846 non-null    int64 \n",
      " 7   Enlongatedness             846 non-null    int64 \n",
      " 8   PR_Axis_Rectangularity     846 non-null    int64 \n",
      " 9   Max_Length_Rectangularity  846 non-null    int64 \n",
      " 10  Major_Scaled_Var           846 non-null    int64 \n",
      " 11  Minor_Scaled_Var           846 non-null    int64 \n",
      " 12  Scaled Radius Gyration     846 non-null    int64 \n",
      " 13  Major_Skew                 846 non-null    int64 \n",
      " 14  Minor_Skew                 846 non-null    int64 \n",
      " 15  Minor_Kurtosis             846 non-null    int64 \n",
      " 16  Major_Kurtosis             846 non-null    int64 \n",
      " 17  Hollow_Ratio               846 non-null    int64 \n",
      " 18  Vehicle_Type               846 non-null    object\n",
      "dtypes: int64(18), object(1)\n",
      "memory usage: 132.2+ KB\n"
     ]
    }
   ],
   "source": [
    "vehicle_df.info()\n"
   ]
  },
  {
   "cell_type": "code",
   "execution_count": 90,
   "id": "6c679367",
   "metadata": {},
   "outputs": [],
   "source": [
    "count = vehicle_df['Vehicle_Type'].value_counts()"
   ]
  },
  {
   "cell_type": "code",
   "execution_count": 91,
   "id": "37915626",
   "metadata": {},
   "outputs": [
    {
     "data": {
      "image/png": "[encoded data removed]",
      "text/plain": [
       "<Figure size 432x288 with 1 Axes>"
      ]
     },
     "metadata": {
      "needs_background": "light"
     },
     "output_type": "display_data"
    }
   ],
   "source": [
    "sns.countplot(x=vehicle_df['Vehicle_Type'], order=count.index,  palette=color)\n",
    "plt.show()"
   ]
  },
  {
   "cell_type": "code",
   "execution_count": 92,
   "id": "3d33c863",
   "metadata": {},
   "outputs": [],
   "source": [
    "#Hot encloding the target variable\n",
    "from sklearn.preprocessing import LabelEncoder\n",
    "\n",
    "#labelencoder = LabelEncoder()\n",
    "#vehicle_df['Vehicle_Type'] = labelencoder.fit_transform(vehicle_df['Vehicle_Type'])\n",
    "#vehicle_df['Vehicle_Type'].value_counts()"
   ]
  },
  {
   "cell_type": "code",
   "execution_count": 93,
   "id": "837b3e59",
   "metadata": {
    "scrolled": true
   },
   "outputs": [],
   "source": [
    "#sns.pairplot(vehicle_df, diag_kind='kde', hue=\"Vehicle_Type\")\n",
    "#plt.show()"
   ]
  },
  {
   "cell_type": "code",
   "execution_count": 94,
   "id": "54c858cb",
   "metadata": {},
   "outputs": [
    {
     "data": {
      "image/png": "[encoded data removed]",
      "text/plain": [
       "<Figure size 1440x720 with 1 Axes>"
      ]
     },
     "metadata": {
      "needs_background": "light"
     },
     "output_type": "display_data"
    }
   ],
   "source": [
    "# Compute the correlation matrix\n",
    "corr = vehicle_df.corr()\n",
    "lower_triangle = np.tril(corr, k = -1)\n",
    "\n",
    "# Generate a mask for the upper triangle\n",
    "mask = np.triu(np.ones_like(corr, dtype=bool))\n",
    "\n",
    "plt.figure(figsize = (20,10)) \n",
    "\n",
    "# Generate a custom diverging colormap\n",
    "cmap = sns.diverging_palette(210, 20, as_cmap=True)\n",
    "\n",
    "# Draw the heatmap with the mask and correct aspect ratio\n",
    "sns.heatmap(lower_triangle, center=0.5, cmap= 'Blues', annot= True, xticklabels = corr.index, yticklabels = corr.columns,\n",
    "            cbar= False, linewidths= 1, mask = mask)\n",
    "\n",
    "plt.show()"
   ]
  },
  {
   "cell_type": "markdown",
   "id": "93591892",
   "metadata": {},
   "source": [
    "Interpretations: There are high correleations among variables. Correlation index between 'Minor_Scaled_Var' and 'Scatter_Ratio\" is even 1. Since there are many highly correlated variables. We we use PCA instead of removing them. "
   ]
  },
  {
   "cell_type": "code",
   "execution_count": 95,
   "id": "82ac3d47",
   "metadata": {},
   "outputs": [],
   "source": [
    "# Check for outliers, but only on training data\n",
    "\n",
    "from sklearn.model_selection import train_test_split\n",
    "\n",
    "X_train, X_test = train_test_split(vehicle_df, test_size=0.3, random_state=7)\n"
   ]
  },
  {
   "cell_type": "code",
   "execution_count": 96,
   "id": "451edc02",
   "metadata": {},
   "outputs": [],
   "source": [
    "def handleOutlier(aSeries):\n",
    "    \n",
    "    q1 = aSeries.quantile(0.25)\n",
    "    q3 = aSeries.quantile(0.75)\n",
    "   \n",
    "    iqr = q3-q1 #Interquartile range\n",
    "    fence_low  = q1-1.5*iqr\n",
    "    fence_high = q3+1.5*iqr\n",
    "    outliers_low = aSeries[(aSeries < fence_low)]\n",
    "    outliers_high= aSeries[(aSeries > fence_high)]\n",
    "    \n",
    "    print (\"25th Quantile value: \", q1)\n",
    "    print('Outlier low Count =', outliers_low.count())\n",
    "    print('List of Low outliers: \\n')\n",
    "    print(outliers_low)\n",
    "\n",
    "    print (\"75th Quantile value: \", q3)\n",
    "    print('Outlier High Count = ', outliers_high.count())\n",
    "    print('List of High outliers: \\n')\n",
    "    print(outliers_high)"
   ]
  },
  {
   "cell_type": "code",
   "execution_count": 97,
   "id": "66e59fc1",
   "metadata": {
    "scrolled": true
   },
   "outputs": [
    {
     "name": "stderr",
     "output_type": "stream",
     "text": [
      "/Users/admin/opt/anaconda3/lib/python3.9/site-packages/seaborn/distributions.py:2619: FutureWarning: `distplot` is a deprecated function and will be removed in a future version. Please adapt your code to use either `displot` (a figure-level function with similar flexibility) or `histplot` (an axes-level function for histograms).\n",
      "  warnings.warn(msg, FutureWarning)\n",
      "/Users/admin/opt/anaconda3/lib/python3.9/site-packages/seaborn/_decorators.py:36: FutureWarning: Pass the following variable as a keyword arg: x. From version 0.12, the only valid positional argument will be `data`, and passing other arguments without an explicit keyword will result in an error or misinterpretation.\n",
      "  warnings.warn(\n"
     ]
    },
    {
     "data": {
      "text/plain": [
       "Text(0.5, 1.0, 'Box Plot')"
      ]
     },
     "execution_count": 97,
     "metadata": {},
     "output_type": "execute_result"
    },
    {
     "data": {
      "image/png": "[encoded data removed]",
      "text/plain": [
       "<Figure size 1440x288 with 2 Axes>"
      ]
     },
     "metadata": {
      "needs_background": "light"
     },
     "output_type": "display_data"
    }
   ],
   "source": [
    "fig,(ax1,ax2) = plt.subplots(nrows=1,ncols=2)\n",
    "fig.set_size_inches(20,4)\n",
    "sns.distplot(X_train['Compactness'],ax=ax1)\n",
    "ax1.set_title(\"Distribution Plot\")\n",
    "\n",
    "sns.boxplot(X_train['Compactness'],ax=ax2)\n",
    "ax2.set_title(\"Box Plot\")"
   ]
  },
  {
   "cell_type": "markdown",
   "id": "6c30e71e",
   "metadata": {},
   "source": [
    "There is no outliers in compactness."
   ]
  },
  {
   "cell_type": "code",
   "execution_count": 98,
   "id": "4ab6b2b7",
   "metadata": {},
   "outputs": [
    {
     "name": "stderr",
     "output_type": "stream",
     "text": [
      "/Users/admin/opt/anaconda3/lib/python3.9/site-packages/seaborn/distributions.py:2619: FutureWarning: `distplot` is a deprecated function and will be removed in a future version. Please adapt your code to use either `displot` (a figure-level function with similar flexibility) or `histplot` (an axes-level function for histograms).\n",
      "  warnings.warn(msg, FutureWarning)\n",
      "/Users/admin/opt/anaconda3/lib/python3.9/site-packages/seaborn/_decorators.py:36: FutureWarning: Pass the following variable as a keyword arg: x. From version 0.12, the only valid positional argument will be `data`, and passing other arguments without an explicit keyword will result in an error or misinterpretation.\n",
      "  warnings.warn(\n"
     ]
    },
    {
     "data": {
      "text/plain": [
       "Text(0.5, 1.0, 'Box Plot')"
      ]
     },
     "execution_count": 98,
     "metadata": {},
     "output_type": "execute_result"
    },
    {
     "data": {
      "image/png": "[encoded data removed]",
      "text/plain": [
       "<Figure size 1440x288 with 2 Axes>"
      ]
     },
     "metadata": {
      "needs_background": "light"
     },
     "output_type": "display_data"
    }
   ],
   "source": [
    "fig,(ax1,ax2) = plt.subplots(nrows=1,ncols=2)\n",
    "fig.set_size_inches(20,4)\n",
    "sns.distplot(X_train['Dist_Circ'],ax=ax1)\n",
    "ax1.set_title(\"Distribution Plot\")\n",
    "\n",
    "sns.boxplot(X_train['Dist_Circ'],ax=ax2)\n",
    "ax2.set_title(\"Box Plot\")"
   ]
  },
  {
   "cell_type": "code",
   "execution_count": 99,
   "id": "d0400b44",
   "metadata": {
    "scrolled": true
   },
   "outputs": [
    {
     "name": "stderr",
     "output_type": "stream",
     "text": [
      "/Users/admin/opt/anaconda3/lib/python3.9/site-packages/seaborn/distributions.py:2619: FutureWarning: `distplot` is a deprecated function and will be removed in a future version. Please adapt your code to use either `displot` (a figure-level function with similar flexibility) or `histplot` (an axes-level function for histograms).\n",
      "  warnings.warn(msg, FutureWarning)\n",
      "/Users/admin/opt/anaconda3/lib/python3.9/site-packages/seaborn/_decorators.py:36: FutureWarning: Pass the following variable as a keyword arg: x. From version 0.12, the only valid positional argument will be `data`, and passing other arguments without an explicit keyword will result in an error or misinterpretation.\n",
      "  warnings.warn(\n"
     ]
    },
    {
     "data": {
      "text/plain": [
       "Text(0.5, 1.0, 'Box Plot')"
      ]
     },
     "execution_count": 99,
     "metadata": {},
     "output_type": "execute_result"
    },
    {
     "data": {
      "image/png": "[encoded data removed]",
      "text/plain": [
       "<Figure size 1440x288 with 2 Axes>"
      ]
     },
     "metadata": {
      "needs_background": "light"
     },
     "output_type": "display_data"
    }
   ],
   "source": [
    "fig,(ax1,ax2) = plt.subplots(nrows=1,ncols=2)\n",
    "fig.set_size_inches(20,4)\n",
    "sns.distplot(X_train['Radius_Ratio'],ax=ax1)\n",
    "ax1.set_title(\"Distribution Plot\")\n",
    "\n",
    "sns.boxplot(X_train['Radius_Ratio'],ax=ax2)\n",
    "ax2.set_title(\"Box Plot\")"
   ]
  },
  {
   "cell_type": "code",
   "execution_count": null,
   "id": "b93f93a7",
   "metadata": {},
   "outputs": [],
   "source": []
  },
  {
   "cell_type": "markdown",
   "id": "1b09d471",
   "metadata": {},
   "source": [
    "There are some outliers in radius_ratio."
   ]
  },
  {
   "cell_type": "code",
   "execution_count": 100,
   "id": "561e394d",
   "metadata": {},
   "outputs": [
    {
     "name": "stdout",
     "output_type": "stream",
     "text": [
      "25th Quantile value:  141.0\n",
      "Outlier low Count = 0\n",
      "List of Low outliers: \n",
      "\n",
      "Series([], Name: Radius_Ratio, dtype: int64)\n",
      "75th Quantile value:  196.25\n",
      "Outlier High Count =  2\n",
      "List of High outliers: \n",
      "\n",
      "37     306\n",
      "135    322\n",
      "Name: Radius_Ratio, dtype: int64\n"
     ]
    }
   ],
   "source": [
    "handleOutlier(X_train['Radius_Ratio'])"
   ]
  },
  {
   "cell_type": "code",
   "execution_count": 101,
   "id": "6903abad",
   "metadata": {
    "scrolled": true
   },
   "outputs": [
    {
     "data": {
      "text/html": [
       "<div>\n",
       "<style scoped>\n",
       "    .dataframe tbody tr th:only-of-type {\n",
       "        vertical-align: middle;\n",
       "    }\n",
       "\n",
       "    .dataframe tbody tr th {\n",
       "        vertical-align: top;\n",
       "    }\n",
       "\n",
       "    .dataframe thead th {\n",
       "        text-align: right;\n",
       "    }\n",
       "</style>\n",
       "<table border=\"1\" class=\"dataframe\">\n",
       "  <thead>\n",
       "    <tr style=\"text-align: right;\">\n",
       "      <th></th>\n",
       "      <th>Compactness</th>\n",
       "      <th>Circularity</th>\n",
       "      <th>Dist_Circ</th>\n",
       "      <th>Radius_Ratio</th>\n",
       "      <th>PR_Axis_Ratio</th>\n",
       "      <th>Max_Length_Ratio</th>\n",
       "      <th>Scatter_Ratio</th>\n",
       "      <th>Enlongatedness</th>\n",
       "      <th>PR_Axis_Rectangularity</th>\n",
       "      <th>Max_Length_Rectangularity</th>\n",
       "      <th>Major_Scaled_Var</th>\n",
       "      <th>Minor_Scaled_Var</th>\n",
       "      <th>Scaled Radius Gyration</th>\n",
       "      <th>Major_Skew</th>\n",
       "      <th>Minor_Skew</th>\n",
       "      <th>Minor_Kurtosis</th>\n",
       "      <th>Major_Kurtosis</th>\n",
       "      <th>Hollow_Ratio</th>\n",
       "      <th>Vehicle_Type</th>\n",
       "    </tr>\n",
       "  </thead>\n",
       "  <tbody>\n",
       "    <tr>\n",
       "      <th>37</th>\n",
       "      <td>90</td>\n",
       "      <td>48</td>\n",
       "      <td>86</td>\n",
       "      <td>306</td>\n",
       "      <td>126</td>\n",
       "      <td>49</td>\n",
       "      <td>153</td>\n",
       "      <td>44</td>\n",
       "      <td>19</td>\n",
       "      <td>156</td>\n",
       "      <td>272</td>\n",
       "      <td>346</td>\n",
       "      <td>200</td>\n",
       "      <td>118</td>\n",
       "      <td>0</td>\n",
       "      <td>15</td>\n",
       "      <td>185</td>\n",
       "      <td>194</td>\n",
       "      <td>van</td>\n",
       "    </tr>\n",
       "    <tr>\n",
       "      <th>135</th>\n",
       "      <td>89</td>\n",
       "      <td>47</td>\n",
       "      <td>83</td>\n",
       "      <td>322</td>\n",
       "      <td>133</td>\n",
       "      <td>48</td>\n",
       "      <td>158</td>\n",
       "      <td>43</td>\n",
       "      <td>20</td>\n",
       "      <td>163</td>\n",
       "      <td>229</td>\n",
       "      <td>364</td>\n",
       "      <td>176</td>\n",
       "      <td>97</td>\n",
       "      <td>0</td>\n",
       "      <td>14</td>\n",
       "      <td>184</td>\n",
       "      <td>194</td>\n",
       "      <td>van</td>\n",
       "    </tr>\n",
       "  </tbody>\n",
       "</table>\n",
       "</div>"
      ],
      "text/plain": [
       "     Compactness  Circularity  Dist_Circ  Radius_Ratio  PR_Axis_Ratio  \\\n",
       "37            90           48         86           306            126   \n",
       "135           89           47         83           322            133   \n",
       "\n",
       "     Max_Length_Ratio  Scatter_Ratio  Enlongatedness  PR_Axis_Rectangularity  \\\n",
       "37                 49            153              44                      19   \n",
       "135                48            158              43                      20   \n",
       "\n",
       "     Max_Length_Rectangularity  Major_Scaled_Var  Minor_Scaled_Var  \\\n",
       "37                         156               272               346   \n",
       "135                        163               229               364   \n",
       "\n",
       "     Scaled Radius Gyration  Major_Skew  Minor_Skew  Minor_Kurtosis  \\\n",
       "37                      200         118           0              15   \n",
       "135                     176          97           0              14   \n",
       "\n",
       "     Major_Kurtosis  Hollow_Ratio Vehicle_Type  \n",
       "37              185           194          van  \n",
       "135             184           194          van  "
      ]
     },
     "execution_count": 101,
     "metadata": {},
     "output_type": "execute_result"
    }
   ],
   "source": [
    "# check the complete 2 rows\n",
    "X_train.loc[[37, 135]]"
   ]
  },
  {
   "cell_type": "markdown",
   "id": "45eb3bf6",
   "metadata": {},
   "source": [
    "Vehicle type is van for both outliers."
   ]
  },
  {
   "cell_type": "code",
   "execution_count": 102,
   "id": "5f833512",
   "metadata": {},
   "outputs": [
    {
     "data": {
      "text/plain": [
       "135    322\n",
       "37     306\n",
       "706    250\n",
       "291    246\n",
       "523    231\n",
       "Name: Radius_Ratio, dtype: int64"
      ]
     },
     "execution_count": 102,
     "metadata": {},
     "output_type": "execute_result"
    }
   ],
   "source": [
    "X_train[X_train['Vehicle_Type']=='van']['Radius_Ratio'].sort_values( ascending=False).head(5)"
   ]
  },
  {
   "cell_type": "markdown",
   "id": "c083c1fd",
   "metadata": {},
   "source": [
    "The two rows have high values compared to their next lower value. We will treat this as outliers and replace their values with max values."
   ]
  },
  {
   "cell_type": "code",
   "execution_count": 103,
   "id": "5c7ccf6c",
   "metadata": {},
   "outputs": [
    {
     "name": "stderr",
     "output_type": "stream",
     "text": [
      "/Users/admin/opt/anaconda3/lib/python3.9/site-packages/pandas/core/indexing.py:1817: SettingWithCopyWarning: \n",
      "A value is trying to be set on a copy of a slice from a DataFrame.\n",
      "Try using .loc[row_indexer,col_indexer] = value instead\n",
      "\n",
      "See the caveats in the documentation: https://pandas.pydata.org/pandas-docs/stable/user_guide/indexing.html#returning-a-view-versus-a-copy\n",
      "  self._setitem_single_column(loc, value, pi)\n"
     ]
    }
   ],
   "source": [
    "X_train.loc[[37,135],'Radius_Ratio']=250.0"
   ]
  },
  {
   "cell_type": "code",
   "execution_count": 104,
   "id": "a0670187",
   "metadata": {},
   "outputs": [
    {
     "data": {
      "text/html": [
       "<div>\n",
       "<style scoped>\n",
       "    .dataframe tbody tr th:only-of-type {\n",
       "        vertical-align: middle;\n",
       "    }\n",
       "\n",
       "    .dataframe tbody tr th {\n",
       "        vertical-align: top;\n",
       "    }\n",
       "\n",
       "    .dataframe thead th {\n",
       "        text-align: right;\n",
       "    }\n",
       "</style>\n",
       "<table border=\"1\" class=\"dataframe\">\n",
       "  <thead>\n",
       "    <tr style=\"text-align: right;\">\n",
       "      <th></th>\n",
       "      <th>Compactness</th>\n",
       "      <th>Circularity</th>\n",
       "      <th>Dist_Circ</th>\n",
       "      <th>Radius_Ratio</th>\n",
       "      <th>PR_Axis_Ratio</th>\n",
       "      <th>Max_Length_Ratio</th>\n",
       "      <th>Scatter_Ratio</th>\n",
       "      <th>Enlongatedness</th>\n",
       "      <th>PR_Axis_Rectangularity</th>\n",
       "      <th>Max_Length_Rectangularity</th>\n",
       "      <th>Major_Scaled_Var</th>\n",
       "      <th>Minor_Scaled_Var</th>\n",
       "      <th>Scaled Radius Gyration</th>\n",
       "      <th>Major_Skew</th>\n",
       "      <th>Minor_Skew</th>\n",
       "      <th>Minor_Kurtosis</th>\n",
       "      <th>Major_Kurtosis</th>\n",
       "      <th>Hollow_Ratio</th>\n",
       "      <th>Vehicle_Type</th>\n",
       "    </tr>\n",
       "  </thead>\n",
       "  <tbody>\n",
       "    <tr>\n",
       "      <th>37</th>\n",
       "      <td>90</td>\n",
       "      <td>48</td>\n",
       "      <td>86</td>\n",
       "      <td>250</td>\n",
       "      <td>126</td>\n",
       "      <td>49</td>\n",
       "      <td>153</td>\n",
       "      <td>44</td>\n",
       "      <td>19</td>\n",
       "      <td>156</td>\n",
       "      <td>272</td>\n",
       "      <td>346</td>\n",
       "      <td>200</td>\n",
       "      <td>118</td>\n",
       "      <td>0</td>\n",
       "      <td>15</td>\n",
       "      <td>185</td>\n",
       "      <td>194</td>\n",
       "      <td>van</td>\n",
       "    </tr>\n",
       "    <tr>\n",
       "      <th>135</th>\n",
       "      <td>89</td>\n",
       "      <td>47</td>\n",
       "      <td>83</td>\n",
       "      <td>250</td>\n",
       "      <td>133</td>\n",
       "      <td>48</td>\n",
       "      <td>158</td>\n",
       "      <td>43</td>\n",
       "      <td>20</td>\n",
       "      <td>163</td>\n",
       "      <td>229</td>\n",
       "      <td>364</td>\n",
       "      <td>176</td>\n",
       "      <td>97</td>\n",
       "      <td>0</td>\n",
       "      <td>14</td>\n",
       "      <td>184</td>\n",
       "      <td>194</td>\n",
       "      <td>van</td>\n",
       "    </tr>\n",
       "  </tbody>\n",
       "</table>\n",
       "</div>"
      ],
      "text/plain": [
       "     Compactness  Circularity  Dist_Circ  Radius_Ratio  PR_Axis_Ratio  \\\n",
       "37            90           48         86           250            126   \n",
       "135           89           47         83           250            133   \n",
       "\n",
       "     Max_Length_Ratio  Scatter_Ratio  Enlongatedness  PR_Axis_Rectangularity  \\\n",
       "37                 49            153              44                      19   \n",
       "135                48            158              43                      20   \n",
       "\n",
       "     Max_Length_Rectangularity  Major_Scaled_Var  Minor_Scaled_Var  \\\n",
       "37                         156               272               346   \n",
       "135                        163               229               364   \n",
       "\n",
       "     Scaled Radius Gyration  Major_Skew  Minor_Skew  Minor_Kurtosis  \\\n",
       "37                      200         118           0              15   \n",
       "135                     176          97           0              14   \n",
       "\n",
       "     Major_Kurtosis  Hollow_Ratio Vehicle_Type  \n",
       "37              185           194          van  \n",
       "135             184           194          van  "
      ]
     },
     "execution_count": 104,
     "metadata": {},
     "output_type": "execute_result"
    }
   ],
   "source": [
    "# double checking\n",
    "X_train.loc[[37,135]]"
   ]
  },
  {
   "cell_type": "code",
   "execution_count": 105,
   "id": "4d521ee0",
   "metadata": {
    "scrolled": true
   },
   "outputs": [
    {
     "name": "stderr",
     "output_type": "stream",
     "text": [
      "/Users/admin/opt/anaconda3/lib/python3.9/site-packages/seaborn/distributions.py:2619: FutureWarning: `distplot` is a deprecated function and will be removed in a future version. Please adapt your code to use either `displot` (a figure-level function with similar flexibility) or `histplot` (an axes-level function for histograms).\n",
      "  warnings.warn(msg, FutureWarning)\n",
      "/Users/admin/opt/anaconda3/lib/python3.9/site-packages/seaborn/_decorators.py:36: FutureWarning: Pass the following variable as a keyword arg: x. From version 0.12, the only valid positional argument will be `data`, and passing other arguments without an explicit keyword will result in an error or misinterpretation.\n",
      "  warnings.warn(\n"
     ]
    },
    {
     "data": {
      "text/plain": [
       "Text(0.5, 1.0, 'Box Plot')"
      ]
     },
     "execution_count": 105,
     "metadata": {},
     "output_type": "execute_result"
    },
    {
     "data": {
      "image/png": "[encoded data removed]",
      "text/plain": [
       "<Figure size 1440x288 with 2 Axes>"
      ]
     },
     "metadata": {
      "needs_background": "light"
     },
     "output_type": "display_data"
    }
   ],
   "source": [
    "fig,(ax1,ax2) = plt.subplots(nrows=1,ncols=2)\n",
    "fig.set_size_inches(20,4)\n",
    "sns.distplot(X_train['PR_Axis_Ratio'],ax=ax1)\n",
    "ax1.set_title(\"Distribution Plot\")\n",
    "\n",
    "sns.boxplot(X_train['PR_Axis_Ratio'],ax=ax2)\n",
    "ax2.set_title(\"Box Plot\")"
   ]
  },
  {
   "cell_type": "markdown",
   "id": "c1ee783e",
   "metadata": {},
   "source": [
    "There are some ouliers needed to handle."
   ]
  },
  {
   "cell_type": "code",
   "execution_count": 106,
   "id": "46d0ec55",
   "metadata": {},
   "outputs": [
    {
     "name": "stdout",
     "output_type": "stream",
     "text": [
      "25th Quantile value:  57.0\n",
      "Outlier low Count = 0\n",
      "List of Low outliers: \n",
      "\n",
      "Series([], Name: PR_Axis_Ratio, dtype: int64)\n",
      "75th Quantile value:  65.0\n",
      "Outlier High Count =  7\n",
      "List of High outliers: \n",
      "\n",
      "523     97\n",
      "37     126\n",
      "706    105\n",
      "291    102\n",
      "135    133\n",
      "4      103\n",
      "100    126\n",
      "Name: PR_Axis_Ratio, dtype: int64\n"
     ]
    }
   ],
   "source": [
    " handleOutlier(X_train['PR_Axis_Ratio'])\n"
   ]
  },
  {
   "cell_type": "code",
   "execution_count": 107,
   "id": "94ad0f60",
   "metadata": {
    "scrolled": true
   },
   "outputs": [
    {
     "data": {
      "text/html": [
       "<div>\n",
       "<style scoped>\n",
       "    .dataframe tbody tr th:only-of-type {\n",
       "        vertical-align: middle;\n",
       "    }\n",
       "\n",
       "    .dataframe tbody tr th {\n",
       "        vertical-align: top;\n",
       "    }\n",
       "\n",
       "    .dataframe thead th {\n",
       "        text-align: right;\n",
       "    }\n",
       "</style>\n",
       "<table border=\"1\" class=\"dataframe\">\n",
       "  <thead>\n",
       "    <tr style=\"text-align: right;\">\n",
       "      <th></th>\n",
       "      <th>Compactness</th>\n",
       "      <th>Circularity</th>\n",
       "      <th>Dist_Circ</th>\n",
       "      <th>Radius_Ratio</th>\n",
       "      <th>PR_Axis_Ratio</th>\n",
       "      <th>Max_Length_Ratio</th>\n",
       "      <th>Scatter_Ratio</th>\n",
       "      <th>Enlongatedness</th>\n",
       "      <th>PR_Axis_Rectangularity</th>\n",
       "      <th>Max_Length_Rectangularity</th>\n",
       "      <th>Major_Scaled_Var</th>\n",
       "      <th>Minor_Scaled_Var</th>\n",
       "      <th>Scaled Radius Gyration</th>\n",
       "      <th>Major_Skew</th>\n",
       "      <th>Minor_Skew</th>\n",
       "      <th>Minor_Kurtosis</th>\n",
       "      <th>Major_Kurtosis</th>\n",
       "      <th>Hollow_Ratio</th>\n",
       "      <th>Vehicle_Type</th>\n",
       "    </tr>\n",
       "  </thead>\n",
       "  <tbody>\n",
       "    <tr>\n",
       "      <th>523</th>\n",
       "      <td>90</td>\n",
       "      <td>43</td>\n",
       "      <td>81</td>\n",
       "      <td>231</td>\n",
       "      <td>97</td>\n",
       "      <td>46</td>\n",
       "      <td>150</td>\n",
       "      <td>45</td>\n",
       "      <td>19</td>\n",
       "      <td>149</td>\n",
       "      <td>200</td>\n",
       "      <td>332</td>\n",
       "      <td>164</td>\n",
       "      <td>91</td>\n",
       "      <td>5</td>\n",
       "      <td>9</td>\n",
       "      <td>186</td>\n",
       "      <td>196</td>\n",
       "      <td>van</td>\n",
       "    </tr>\n",
       "    <tr>\n",
       "      <th>37</th>\n",
       "      <td>90</td>\n",
       "      <td>48</td>\n",
       "      <td>86</td>\n",
       "      <td>250</td>\n",
       "      <td>126</td>\n",
       "      <td>49</td>\n",
       "      <td>153</td>\n",
       "      <td>44</td>\n",
       "      <td>19</td>\n",
       "      <td>156</td>\n",
       "      <td>272</td>\n",
       "      <td>346</td>\n",
       "      <td>200</td>\n",
       "      <td>118</td>\n",
       "      <td>0</td>\n",
       "      <td>15</td>\n",
       "      <td>185</td>\n",
       "      <td>194</td>\n",
       "      <td>van</td>\n",
       "    </tr>\n",
       "    <tr>\n",
       "      <th>706</th>\n",
       "      <td>82</td>\n",
       "      <td>43</td>\n",
       "      <td>70</td>\n",
       "      <td>250</td>\n",
       "      <td>105</td>\n",
       "      <td>55</td>\n",
       "      <td>139</td>\n",
       "      <td>48</td>\n",
       "      <td>18</td>\n",
       "      <td>145</td>\n",
       "      <td>231</td>\n",
       "      <td>289</td>\n",
       "      <td>172</td>\n",
       "      <td>99</td>\n",
       "      <td>4</td>\n",
       "      <td>9</td>\n",
       "      <td>190</td>\n",
       "      <td>199</td>\n",
       "      <td>van</td>\n",
       "    </tr>\n",
       "    <tr>\n",
       "      <th>291</th>\n",
       "      <td>89</td>\n",
       "      <td>45</td>\n",
       "      <td>81</td>\n",
       "      <td>246</td>\n",
       "      <td>102</td>\n",
       "      <td>43</td>\n",
       "      <td>155</td>\n",
       "      <td>44</td>\n",
       "      <td>20</td>\n",
       "      <td>160</td>\n",
       "      <td>200</td>\n",
       "      <td>347</td>\n",
       "      <td>177</td>\n",
       "      <td>90</td>\n",
       "      <td>9</td>\n",
       "      <td>17</td>\n",
       "      <td>183</td>\n",
       "      <td>192</td>\n",
       "      <td>van</td>\n",
       "    </tr>\n",
       "    <tr>\n",
       "      <th>135</th>\n",
       "      <td>89</td>\n",
       "      <td>47</td>\n",
       "      <td>83</td>\n",
       "      <td>250</td>\n",
       "      <td>133</td>\n",
       "      <td>48</td>\n",
       "      <td>158</td>\n",
       "      <td>43</td>\n",
       "      <td>20</td>\n",
       "      <td>163</td>\n",
       "      <td>229</td>\n",
       "      <td>364</td>\n",
       "      <td>176</td>\n",
       "      <td>97</td>\n",
       "      <td>0</td>\n",
       "      <td>14</td>\n",
       "      <td>184</td>\n",
       "      <td>194</td>\n",
       "      <td>van</td>\n",
       "    </tr>\n",
       "    <tr>\n",
       "      <th>4</th>\n",
       "      <td>85</td>\n",
       "      <td>44</td>\n",
       "      <td>70</td>\n",
       "      <td>205</td>\n",
       "      <td>103</td>\n",
       "      <td>52</td>\n",
       "      <td>149</td>\n",
       "      <td>45</td>\n",
       "      <td>19</td>\n",
       "      <td>144</td>\n",
       "      <td>241</td>\n",
       "      <td>325</td>\n",
       "      <td>188</td>\n",
       "      <td>127</td>\n",
       "      <td>9</td>\n",
       "      <td>11</td>\n",
       "      <td>180</td>\n",
       "      <td>183</td>\n",
       "      <td>bus</td>\n",
       "    </tr>\n",
       "    <tr>\n",
       "      <th>100</th>\n",
       "      <td>82</td>\n",
       "      <td>45</td>\n",
       "      <td>66</td>\n",
       "      <td>252</td>\n",
       "      <td>126</td>\n",
       "      <td>52</td>\n",
       "      <td>148</td>\n",
       "      <td>45</td>\n",
       "      <td>19</td>\n",
       "      <td>144</td>\n",
       "      <td>237</td>\n",
       "      <td>326</td>\n",
       "      <td>185</td>\n",
       "      <td>119</td>\n",
       "      <td>1</td>\n",
       "      <td>1</td>\n",
       "      <td>181</td>\n",
       "      <td>185</td>\n",
       "      <td>bus</td>\n",
       "    </tr>\n",
       "  </tbody>\n",
       "</table>\n",
       "</div>"
      ],
      "text/plain": [
       "     Compactness  Circularity  Dist_Circ  Radius_Ratio  PR_Axis_Ratio  \\\n",
       "523           90           43         81           231             97   \n",
       "37            90           48         86           250            126   \n",
       "706           82           43         70           250            105   \n",
       "291           89           45         81           246            102   \n",
       "135           89           47         83           250            133   \n",
       "4             85           44         70           205            103   \n",
       "100           82           45         66           252            126   \n",
       "\n",
       "     Max_Length_Ratio  Scatter_Ratio  Enlongatedness  PR_Axis_Rectangularity  \\\n",
       "523                46            150              45                      19   \n",
       "37                 49            153              44                      19   \n",
       "706                55            139              48                      18   \n",
       "291                43            155              44                      20   \n",
       "135                48            158              43                      20   \n",
       "4                  52            149              45                      19   \n",
       "100                52            148              45                      19   \n",
       "\n",
       "     Max_Length_Rectangularity  Major_Scaled_Var  Minor_Scaled_Var  \\\n",
       "523                        149               200               332   \n",
       "37                         156               272               346   \n",
       "706                        145               231               289   \n",
       "291                        160               200               347   \n",
       "135                        163               229               364   \n",
       "4                          144               241               325   \n",
       "100                        144               237               326   \n",
       "\n",
       "     Scaled Radius Gyration  Major_Skew  Minor_Skew  Minor_Kurtosis  \\\n",
       "523                     164          91           5               9   \n",
       "37                      200         118           0              15   \n",
       "706                     172          99           4               9   \n",
       "291                     177          90           9              17   \n",
       "135                     176          97           0              14   \n",
       "4                       188         127           9              11   \n",
       "100                     185         119           1               1   \n",
       "\n",
       "     Major_Kurtosis  Hollow_Ratio Vehicle_Type  \n",
       "523             186           196          van  \n",
       "37              185           194          van  \n",
       "706             190           199          van  \n",
       "291             183           192          van  \n",
       "135             184           194          van  \n",
       "4               180           183          bus  \n",
       "100             181           185          bus  "
      ]
     },
     "execution_count": 107,
     "metadata": {},
     "output_type": "execute_result"
    }
   ],
   "source": [
    "X_train.loc[[523,37,706,291,135,4,100]]"
   ]
  },
  {
   "cell_type": "markdown",
   "id": "af7213b8",
   "metadata": {},
   "source": [
    "Rows at index 4 and 100 are bus while the rest is van."
   ]
  },
  {
   "cell_type": "code",
   "execution_count": 108,
   "id": "d8462214",
   "metadata": {},
   "outputs": [
    {
     "data": {
      "text/plain": [
       "100    126\n",
       "4      103\n",
       "84      76\n",
       "556     75\n",
       "275     75\n",
       "88      75\n",
       "450     75\n",
       "151     74\n",
       "Name: PR_Axis_Ratio, dtype: int64"
      ]
     },
     "execution_count": 108,
     "metadata": {},
     "output_type": "execute_result"
    }
   ],
   "source": [
    "# Lets Check for Bus first\n",
    "X_train[X_train['Vehicle_Type']=='bus']['PR_Axis_Ratio'].sort_values( ascending=False).head(8)"
   ]
  },
  {
   "cell_type": "markdown",
   "id": "c6fbc05c",
   "metadata": {},
   "source": [
    "We will drop them because it's significantly higher than the max value.\n"
   ]
  },
  {
   "cell_type": "code",
   "execution_count": 109,
   "id": "253a023a",
   "metadata": {
    "scrolled": true
   },
   "outputs": [
    {
     "name": "stderr",
     "output_type": "stream",
     "text": [
      "/Users/admin/opt/anaconda3/lib/python3.9/site-packages/pandas/core/frame.py:4906: SettingWithCopyWarning: \n",
      "A value is trying to be set on a copy of a slice from a DataFrame\n",
      "\n",
      "See the caveats in the documentation: https://pandas.pydata.org/pandas-docs/stable/user_guide/indexing.html#returning-a-view-versus-a-copy\n",
      "  return super().drop(\n"
     ]
    }
   ],
   "source": [
    "# dropping 100\n",
    "X_train.drop(4, inplace=True)\n",
    "X_train.drop(100, inplace=True)\n",
    "\n",
    "\n"
   ]
  },
  {
   "cell_type": "code",
   "execution_count": 110,
   "id": "70173f96",
   "metadata": {},
   "outputs": [
    {
     "data": {
      "text/plain": [
       "135    133\n",
       "37     126\n",
       "706    105\n",
       "291    102\n",
       "523     97\n",
       "0       72\n",
       "149     69\n",
       "732     69\n",
       "722     68\n",
       "68      68\n",
       "457     68\n",
       "449     68\n",
       "234     68\n",
       "35      67\n",
       "572     67\n",
       "Name: PR_Axis_Ratio, dtype: int64"
      ]
     },
     "execution_count": 110,
     "metadata": {},
     "output_type": "execute_result"
    }
   ],
   "source": [
    "# Now check for van\n",
    "X_train[X_train['Vehicle_Type']=='van']['PR_Axis_Ratio'].sort_values( ascending=False).head(15)"
   ]
  },
  {
   "cell_type": "code",
   "execution_count": 111,
   "id": "be04d645",
   "metadata": {},
   "outputs": [],
   "source": [
    "X_train.drop([37,135,291,523,706], inplace=True)\n"
   ]
  },
  {
   "cell_type": "code",
   "execution_count": 112,
   "id": "b064bf25",
   "metadata": {
    "scrolled": true
   },
   "outputs": [
    {
     "name": "stderr",
     "output_type": "stream",
     "text": [
      "/Users/admin/opt/anaconda3/lib/python3.9/site-packages/seaborn/distributions.py:2619: FutureWarning: `distplot` is a deprecated function and will be removed in a future version. Please adapt your code to use either `displot` (a figure-level function with similar flexibility) or `histplot` (an axes-level function for histograms).\n",
      "  warnings.warn(msg, FutureWarning)\n",
      "/Users/admin/opt/anaconda3/lib/python3.9/site-packages/seaborn/_decorators.py:36: FutureWarning: Pass the following variable as a keyword arg: x. From version 0.12, the only valid positional argument will be `data`, and passing other arguments without an explicit keyword will result in an error or misinterpretation.\n",
      "  warnings.warn(\n"
     ]
    },
    {
     "data": {
      "text/plain": [
       "Text(0.5, 1.0, 'Box Plot')"
      ]
     },
     "execution_count": 112,
     "metadata": {},
     "output_type": "execute_result"
    },
    {
     "data": {
      "image/png": "[encoded data removed]",
      "text/plain": [
       "<Figure size 1440x288 with 2 Axes>"
      ]
     },
     "metadata": {
      "needs_background": "light"
     },
     "output_type": "display_data"
    }
   ],
   "source": [
    "fig,(ax1,ax2) = plt.subplots(nrows=1,ncols=2)\n",
    "fig.set_size_inches(20,4)\n",
    "sns.distplot(X_train['Max_Length_Ratio'],ax=ax1)\n",
    "ax1.set_title(\"Distribution Plot\")\n",
    "\n",
    "sns.boxplot(X_train['Max_Length_Ratio'],ax=ax2)\n",
    "ax2.set_title(\"Box Plot\")"
   ]
  },
  {
   "cell_type": "code",
   "execution_count": 113,
   "id": "a1768f32",
   "metadata": {},
   "outputs": [
    {
     "name": "stdout",
     "output_type": "stream",
     "text": [
      "25th Quantile value:  6.0\n",
      "Outlier low Count = 0\n",
      "List of Low outliers: \n",
      "\n",
      "Series([], Name: Max_Length_Ratio, dtype: int64)\n",
      "75th Quantile value:  10.0\n",
      "Outlier High Count =  2\n",
      "List of High outliers: \n",
      "\n",
      "815    22\n",
      "391    25\n",
      "Name: Max_Length_Ratio, dtype: int64\n"
     ]
    }
   ],
   "source": [
    " handleOutlier(X_train['Max_Length_Ratio'])\n",
    "\n"
   ]
  },
  {
   "cell_type": "code",
   "execution_count": 114,
   "id": "c60cfd78",
   "metadata": {},
   "outputs": [
    {
     "data": {
      "text/html": [
       "<div>\n",
       "<style scoped>\n",
       "    .dataframe tbody tr th:only-of-type {\n",
       "        vertical-align: middle;\n",
       "    }\n",
       "\n",
       "    .dataframe tbody tr th {\n",
       "        vertical-align: top;\n",
       "    }\n",
       "\n",
       "    .dataframe thead th {\n",
       "        text-align: right;\n",
       "    }\n",
       "</style>\n",
       "<table border=\"1\" class=\"dataframe\">\n",
       "  <thead>\n",
       "    <tr style=\"text-align: right;\">\n",
       "      <th></th>\n",
       "      <th>Compactness</th>\n",
       "      <th>Circularity</th>\n",
       "      <th>Dist_Circ</th>\n",
       "      <th>Radius_Ratio</th>\n",
       "      <th>PR_Axis_Ratio</th>\n",
       "      <th>Max_Length_Ratio</th>\n",
       "      <th>Scatter_Ratio</th>\n",
       "      <th>Enlongatedness</th>\n",
       "      <th>PR_Axis_Rectangularity</th>\n",
       "      <th>Max_Length_Rectangularity</th>\n",
       "      <th>Major_Scaled_Var</th>\n",
       "      <th>Minor_Scaled_Var</th>\n",
       "      <th>Scaled Radius Gyration</th>\n",
       "      <th>Major_Skew</th>\n",
       "      <th>Minor_Skew</th>\n",
       "      <th>Minor_Kurtosis</th>\n",
       "      <th>Major_Kurtosis</th>\n",
       "      <th>Hollow_Ratio</th>\n",
       "      <th>Vehicle_Type</th>\n",
       "    </tr>\n",
       "  </thead>\n",
       "  <tbody>\n",
       "    <tr>\n",
       "      <th>815</th>\n",
       "      <td>81</td>\n",
       "      <td>45</td>\n",
       "      <td>68</td>\n",
       "      <td>154</td>\n",
       "      <td>69</td>\n",
       "      <td>22</td>\n",
       "      <td>151</td>\n",
       "      <td>45</td>\n",
       "      <td>19</td>\n",
       "      <td>147</td>\n",
       "      <td>186</td>\n",
       "      <td>335</td>\n",
       "      <td>186</td>\n",
       "      <td>88</td>\n",
       "      <td>1</td>\n",
       "      <td>10</td>\n",
       "      <td>180</td>\n",
       "      <td>185</td>\n",
       "      <td>bus</td>\n",
       "    </tr>\n",
       "    <tr>\n",
       "      <th>391</th>\n",
       "      <td>91</td>\n",
       "      <td>38</td>\n",
       "      <td>70</td>\n",
       "      <td>160</td>\n",
       "      <td>66</td>\n",
       "      <td>25</td>\n",
       "      <td>140</td>\n",
       "      <td>47</td>\n",
       "      <td>18</td>\n",
       "      <td>139</td>\n",
       "      <td>162</td>\n",
       "      <td>296</td>\n",
       "      <td>130</td>\n",
       "      <td>67</td>\n",
       "      <td>4</td>\n",
       "      <td>11</td>\n",
       "      <td>192</td>\n",
       "      <td>202</td>\n",
       "      <td>van</td>\n",
       "    </tr>\n",
       "  </tbody>\n",
       "</table>\n",
       "</div>"
      ],
      "text/plain": [
       "     Compactness  Circularity  Dist_Circ  Radius_Ratio  PR_Axis_Ratio  \\\n",
       "815           81           45         68           154             69   \n",
       "391           91           38         70           160             66   \n",
       "\n",
       "     Max_Length_Ratio  Scatter_Ratio  Enlongatedness  PR_Axis_Rectangularity  \\\n",
       "815                22            151              45                      19   \n",
       "391                25            140              47                      18   \n",
       "\n",
       "     Max_Length_Rectangularity  Major_Scaled_Var  Minor_Scaled_Var  \\\n",
       "815                        147               186               335   \n",
       "391                        139               162               296   \n",
       "\n",
       "     Scaled Radius Gyration  Major_Skew  Minor_Skew  Minor_Kurtosis  \\\n",
       "815                     186          88           1              10   \n",
       "391                     130          67           4              11   \n",
       "\n",
       "     Major_Kurtosis  Hollow_Ratio Vehicle_Type  \n",
       "815             180           185          bus  \n",
       "391             192           202          van  "
      ]
     },
     "execution_count": 114,
     "metadata": {},
     "output_type": "execute_result"
    }
   ],
   "source": [
    "X_train.loc[[815,391]]"
   ]
  },
  {
   "cell_type": "code",
   "execution_count": 115,
   "id": "a2421de4",
   "metadata": {},
   "outputs": [
    {
     "data": {
      "text/plain": [
       "815    22\n",
       "765     8\n",
       "274     8\n",
       "548     8\n",
       "143     8\n",
       "714     8\n",
       "208     8\n",
       "547     8\n",
       "Name: Max_Length_Ratio, dtype: int64"
      ]
     },
     "execution_count": 115,
     "metadata": {},
     "output_type": "execute_result"
    }
   ],
   "source": [
    "X_train[X_train['Vehicle_Type']=='bus']['Max_Length_Ratio'].sort_values( ascending=False).head(8)"
   ]
  },
  {
   "cell_type": "code",
   "execution_count": 116,
   "id": "a3bc8ce3",
   "metadata": {},
   "outputs": [
    {
     "name": "stderr",
     "output_type": "stream",
     "text": [
      "/Users/admin/opt/anaconda3/lib/python3.9/site-packages/pandas/core/frame.py:4906: SettingWithCopyWarning: \n",
      "A value is trying to be set on a copy of a slice from a DataFrame\n",
      "\n",
      "See the caveats in the documentation: https://pandas.pydata.org/pandas-docs/stable/user_guide/indexing.html#returning-a-view-versus-a-copy\n",
      "  return super().drop(\n"
     ]
    }
   ],
   "source": [
    "X_train.drop([815], inplace=True)\n",
    "\n"
   ]
  },
  {
   "cell_type": "code",
   "execution_count": 117,
   "id": "e78da768",
   "metadata": {},
   "outputs": [
    {
     "data": {
      "text/plain": [
       "391    25\n",
       "545    12\n",
       "254    12\n",
       "42     11\n",
       "45     11\n",
       "484    11\n",
       "611    11\n",
       "200    11\n",
       "Name: Max_Length_Ratio, dtype: int64"
      ]
     },
     "execution_count": 117,
     "metadata": {},
     "output_type": "execute_result"
    }
   ],
   "source": [
    "X_train[X_train['Vehicle_Type']=='van']['Max_Length_Ratio'].sort_values( ascending=False).head(8)"
   ]
  },
  {
   "cell_type": "code",
   "execution_count": 118,
   "id": "bce79b04",
   "metadata": {},
   "outputs": [],
   "source": [
    "X_train.drop([391], inplace=True)\n",
    "\n"
   ]
  },
  {
   "cell_type": "code",
   "execution_count": 119,
   "id": "dd56a327",
   "metadata": {
    "scrolled": true
   },
   "outputs": [
    {
     "name": "stderr",
     "output_type": "stream",
     "text": [
      "/Users/admin/opt/anaconda3/lib/python3.9/site-packages/seaborn/distributions.py:2619: FutureWarning: `distplot` is a deprecated function and will be removed in a future version. Please adapt your code to use either `displot` (a figure-level function with similar flexibility) or `histplot` (an axes-level function for histograms).\n",
      "  warnings.warn(msg, FutureWarning)\n",
      "/Users/admin/opt/anaconda3/lib/python3.9/site-packages/seaborn/_decorators.py:36: FutureWarning: Pass the following variable as a keyword arg: x. From version 0.12, the only valid positional argument will be `data`, and passing other arguments without an explicit keyword will result in an error or misinterpretation.\n",
      "  warnings.warn(\n"
     ]
    },
    {
     "data": {
      "text/plain": [
       "Text(0.5, 1.0, 'Box Plot')"
      ]
     },
     "execution_count": 119,
     "metadata": {},
     "output_type": "execute_result"
    },
    {
     "data": {
      "image/png": "[encoded data removed]",
      "text/plain": [
       "<Figure size 1440x288 with 2 Axes>"
      ]
     },
     "metadata": {
      "needs_background": "light"
     },
     "output_type": "display_data"
    }
   ],
   "source": [
    "fig,(ax1,ax2) = plt.subplots(nrows=1,ncols=2)\n",
    "fig.set_size_inches(20,4)\n",
    "sns.distplot(X_train['Scatter_Ratio'],ax=ax1)\n",
    "ax1.set_title(\"Distribution Plot\")\n",
    "\n",
    "sns.boxplot(X_train['Scatter_Ratio'],ax=ax2)\n",
    "ax2.set_title(\"Box Plot\")"
   ]
  },
  {
   "cell_type": "markdown",
   "id": "151cc2eb",
   "metadata": {},
   "source": [
    "No outliers\n"
   ]
  },
  {
   "cell_type": "code",
   "execution_count": 120,
   "id": "ea9c894c",
   "metadata": {
    "scrolled": true
   },
   "outputs": [
    {
     "name": "stderr",
     "output_type": "stream",
     "text": [
      "/Users/admin/opt/anaconda3/lib/python3.9/site-packages/seaborn/distributions.py:2619: FutureWarning: `distplot` is a deprecated function and will be removed in a future version. Please adapt your code to use either `displot` (a figure-level function with similar flexibility) or `histplot` (an axes-level function for histograms).\n",
      "  warnings.warn(msg, FutureWarning)\n",
      "/Users/admin/opt/anaconda3/lib/python3.9/site-packages/seaborn/_decorators.py:36: FutureWarning: Pass the following variable as a keyword arg: x. From version 0.12, the only valid positional argument will be `data`, and passing other arguments without an explicit keyword will result in an error or misinterpretation.\n",
      "  warnings.warn(\n"
     ]
    },
    {
     "data": {
      "text/plain": [
       "Text(0.5, 1.0, 'Box Plot')"
      ]
     },
     "execution_count": 120,
     "metadata": {},
     "output_type": "execute_result"
    },
    {
     "data": {
      "image/png": "[encoded data removed]",
      "text/plain": [
       "<Figure size 1440x288 with 2 Axes>"
      ]
     },
     "metadata": {
      "needs_background": "light"
     },
     "output_type": "display_data"
    }
   ],
   "source": [
    "fig,(ax1,ax2) = plt.subplots(nrows=1,ncols=2)\n",
    "fig.set_size_inches(20,4)\n",
    "sns.distplot(X_train['Enlongatedness'],ax=ax1)\n",
    "ax1.set_title(\"Distribution Plot\")\n",
    "\n",
    "sns.boxplot(X_train['Enlongatedness'],ax=ax2)\n",
    "ax2.set_title(\"Box Plot\")"
   ]
  },
  {
   "cell_type": "markdown",
   "id": "373cc97a",
   "metadata": {},
   "source": [
    "No outliers"
   ]
  },
  {
   "cell_type": "code",
   "execution_count": 121,
   "id": "38e5d8f0",
   "metadata": {
    "scrolled": true
   },
   "outputs": [
    {
     "name": "stderr",
     "output_type": "stream",
     "text": [
      "/Users/admin/opt/anaconda3/lib/python3.9/site-packages/seaborn/distributions.py:2619: FutureWarning: `distplot` is a deprecated function and will be removed in a future version. Please adapt your code to use either `displot` (a figure-level function with similar flexibility) or `histplot` (an axes-level function for histograms).\n",
      "  warnings.warn(msg, FutureWarning)\n",
      "/Users/admin/opt/anaconda3/lib/python3.9/site-packages/seaborn/_decorators.py:36: FutureWarning: Pass the following variable as a keyword arg: x. From version 0.12, the only valid positional argument will be `data`, and passing other arguments without an explicit keyword will result in an error or misinterpretation.\n",
      "  warnings.warn(\n"
     ]
    },
    {
     "data": {
      "text/plain": [
       "Text(0.5, 1.0, 'Box Plot')"
      ]
     },
     "execution_count": 121,
     "metadata": {},
     "output_type": "execute_result"
    },
    {
     "data": {
      "image/png": "[encoded data removed]",
      "text/plain": [
       "<Figure size 1440x288 with 2 Axes>"
      ]
     },
     "metadata": {
      "needs_background": "light"
     },
     "output_type": "display_data"
    }
   ],
   "source": [
    "fig,(ax1,ax2) = plt.subplots(nrows=1,ncols=2)\n",
    "fig.set_size_inches(20,4)\n",
    "sns.distplot(X_train['PR_Axis_Rectangularity'],ax=ax1)\n",
    "ax1.set_title(\"Distribution Plot\")\n",
    "\n",
    "sns.boxplot(X_train['PR_Axis_Rectangularity'],ax=ax2)\n",
    "ax2.set_title(\"Box Plot\")"
   ]
  },
  {
   "cell_type": "code",
   "execution_count": 122,
   "id": "98efbd14",
   "metadata": {},
   "outputs": [
    {
     "name": "stderr",
     "output_type": "stream",
     "text": [
      "/Users/admin/opt/anaconda3/lib/python3.9/site-packages/seaborn/distributions.py:2619: FutureWarning: `distplot` is a deprecated function and will be removed in a future version. Please adapt your code to use either `displot` (a figure-level function with similar flexibility) or `histplot` (an axes-level function for histograms).\n",
      "  warnings.warn(msg, FutureWarning)\n",
      "/Users/admin/opt/anaconda3/lib/python3.9/site-packages/seaborn/_decorators.py:36: FutureWarning: Pass the following variable as a keyword arg: x. From version 0.12, the only valid positional argument will be `data`, and passing other arguments without an explicit keyword will result in an error or misinterpretation.\n",
      "  warnings.warn(\n"
     ]
    },
    {
     "data": {
      "text/plain": [
       "Text(0.5, 1.0, 'Box Plot')"
      ]
     },
     "execution_count": 122,
     "metadata": {},
     "output_type": "execute_result"
    },
    {
     "data": {
      "image/png": "[encoded data removed]",
      "text/plain": [
       "<Figure size 1440x288 with 2 Axes>"
      ]
     },
     "metadata": {
      "needs_background": "light"
     },
     "output_type": "display_data"
    }
   ],
   "source": [
    "fig,(ax1,ax2) = plt.subplots(nrows=1,ncols=2)\n",
    "fig.set_size_inches(20,4)\n",
    "sns.distplot(X_train['Max_Length_Rectangularity'],ax=ax1)\n",
    "ax1.set_title(\"Distribution Plot\")\n",
    "\n",
    "sns.boxplot(X_train['Max_Length_Rectangularity'],ax=ax2)\n",
    "ax2.set_title(\"Box Plot\")"
   ]
  },
  {
   "cell_type": "markdown",
   "id": "b77ac3f1",
   "metadata": {},
   "source": [
    "No outliers"
   ]
  },
  {
   "cell_type": "code",
   "execution_count": 123,
   "id": "2ecd1c8c",
   "metadata": {
    "scrolled": true
   },
   "outputs": [
    {
     "name": "stderr",
     "output_type": "stream",
     "text": [
      "/Users/admin/opt/anaconda3/lib/python3.9/site-packages/seaborn/distributions.py:2619: FutureWarning: `distplot` is a deprecated function and will be removed in a future version. Please adapt your code to use either `displot` (a figure-level function with similar flexibility) or `histplot` (an axes-level function for histograms).\n",
      "  warnings.warn(msg, FutureWarning)\n",
      "/Users/admin/opt/anaconda3/lib/python3.9/site-packages/seaborn/_decorators.py:36: FutureWarning: Pass the following variable as a keyword arg: x. From version 0.12, the only valid positional argument will be `data`, and passing other arguments without an explicit keyword will result in an error or misinterpretation.\n",
      "  warnings.warn(\n"
     ]
    },
    {
     "data": {
      "text/plain": [
       "Text(0.5, 1.0, 'Box Plot')"
      ]
     },
     "execution_count": 123,
     "metadata": {},
     "output_type": "execute_result"
    },
    {
     "data": {
      "image/png": "[encoded data removed]",
      "text/plain": [
       "<Figure size 1440x288 with 2 Axes>"
      ]
     },
     "metadata": {
      "needs_background": "light"
     },
     "output_type": "display_data"
    }
   ],
   "source": [
    "fig,(ax1,ax2) = plt.subplots(nrows=1,ncols=2)\n",
    "fig.set_size_inches(20,4)\n",
    "sns.distplot(X_train['Major_Scaled_Var'],ax=ax1)\n",
    "ax1.set_title(\"Distribution Plot\")\n",
    "\n",
    "sns.boxplot(X_train['Major_Scaled_Var'],ax=ax2)\n",
    "ax2.set_title(\"Box Plot\")"
   ]
  },
  {
   "cell_type": "code",
   "execution_count": 124,
   "id": "59dae911",
   "metadata": {
    "scrolled": true
   },
   "outputs": [
    {
     "name": "stderr",
     "output_type": "stream",
     "text": [
      "/Users/admin/opt/anaconda3/lib/python3.9/site-packages/seaborn/distributions.py:2619: FutureWarning: `distplot` is a deprecated function and will be removed in a future version. Please adapt your code to use either `displot` (a figure-level function with similar flexibility) or `histplot` (an axes-level function for histograms).\n",
      "  warnings.warn(msg, FutureWarning)\n",
      "/Users/admin/opt/anaconda3/lib/python3.9/site-packages/seaborn/_decorators.py:36: FutureWarning: Pass the following variable as a keyword arg: x. From version 0.12, the only valid positional argument will be `data`, and passing other arguments without an explicit keyword will result in an error or misinterpretation.\n",
      "  warnings.warn(\n"
     ]
    },
    {
     "data": {
      "text/plain": [
       "Text(0.5, 1.0, 'Box Plot')"
      ]
     },
     "execution_count": 124,
     "metadata": {},
     "output_type": "execute_result"
    },
    {
     "data": {
      "image/png": "[encoded data removed]",
      "text/plain": [
       "<Figure size 1440x288 with 2 Axes>"
      ]
     },
     "metadata": {
      "needs_background": "light"
     },
     "output_type": "display_data"
    }
   ],
   "source": [
    "fig,(ax1,ax2) = plt.subplots(nrows=1,ncols=2)\n",
    "fig.set_size_inches(20,4)\n",
    "sns.distplot(X_train['Minor_Scaled_Var'],ax=ax1)\n",
    "ax1.set_title(\"Distribution Plot\")\n",
    "\n",
    "sns.boxplot(X_train['Minor_Scaled_Var'],ax=ax2)\n",
    "ax2.set_title(\"Box Plot\")"
   ]
  },
  {
   "cell_type": "code",
   "execution_count": 125,
   "id": "4066a029",
   "metadata": {
    "scrolled": true
   },
   "outputs": [
    {
     "name": "stderr",
     "output_type": "stream",
     "text": [
      "/Users/admin/opt/anaconda3/lib/python3.9/site-packages/seaborn/distributions.py:2619: FutureWarning: `distplot` is a deprecated function and will be removed in a future version. Please adapt your code to use either `displot` (a figure-level function with similar flexibility) or `histplot` (an axes-level function for histograms).\n",
      "  warnings.warn(msg, FutureWarning)\n",
      "/Users/admin/opt/anaconda3/lib/python3.9/site-packages/seaborn/_decorators.py:36: FutureWarning: Pass the following variable as a keyword arg: x. From version 0.12, the only valid positional argument will be `data`, and passing other arguments without an explicit keyword will result in an error or misinterpretation.\n",
      "  warnings.warn(\n"
     ]
    },
    {
     "data": {
      "text/plain": [
       "Text(0.5, 1.0, 'Box Plot')"
      ]
     },
     "execution_count": 125,
     "metadata": {},
     "output_type": "execute_result"
    },
    {
     "data": {
      "image/png": "[encoded data removed]",
      "text/plain": [
       "<Figure size 1440x288 with 2 Axes>"
      ]
     },
     "metadata": {
      "needs_background": "light"
     },
     "output_type": "display_data"
    }
   ],
   "source": [
    "fig,(ax1,ax2) = plt.subplots(nrows=1,ncols=2)\n",
    "fig.set_size_inches(20,4)\n",
    "sns.distplot(X_train['Scaled Radius Gyration'],ax=ax1)\n",
    "ax1.set_title(\"Distribution Plot\")\n",
    "\n",
    "sns.boxplot(X_train['Scaled Radius Gyration'],ax=ax2)\n",
    "ax2.set_title(\"Box Plot\")"
   ]
  },
  {
   "cell_type": "code",
   "execution_count": 126,
   "id": "13edc57b",
   "metadata": {
    "scrolled": false
   },
   "outputs": [
    {
     "name": "stderr",
     "output_type": "stream",
     "text": [
      "/Users/admin/opt/anaconda3/lib/python3.9/site-packages/seaborn/distributions.py:2619: FutureWarning: `distplot` is a deprecated function and will be removed in a future version. Please adapt your code to use either `displot` (a figure-level function with similar flexibility) or `histplot` (an axes-level function for histograms).\n",
      "  warnings.warn(msg, FutureWarning)\n",
      "/Users/admin/opt/anaconda3/lib/python3.9/site-packages/seaborn/_decorators.py:36: FutureWarning: Pass the following variable as a keyword arg: x. From version 0.12, the only valid positional argument will be `data`, and passing other arguments without an explicit keyword will result in an error or misinterpretation.\n",
      "  warnings.warn(\n"
     ]
    },
    {
     "data": {
      "text/plain": [
       "Text(0.5, 1.0, 'Box Plot')"
      ]
     },
     "execution_count": 126,
     "metadata": {},
     "output_type": "execute_result"
    },
    {
     "data": {
      "image/png": "[encoded data removed]",
      "text/plain": [
       "<Figure size 1440x288 with 2 Axes>"
      ]
     },
     "metadata": {
      "needs_background": "light"
     },
     "output_type": "display_data"
    }
   ],
   "source": [
    "fig,(ax1,ax2) = plt.subplots(nrows=1,ncols=2)\n",
    "fig.set_size_inches(20,4)\n",
    "sns.distplot(X_train['Minor_Skew'],ax=ax1)\n",
    "ax1.set_title(\"Distribution Plot\")\n",
    "\n",
    "sns.boxplot(X_train['Minor_Skew'],ax=ax2)\n",
    "ax2.set_title(\"Box Plot\")"
   ]
  },
  {
   "cell_type": "markdown",
   "id": "a8044ac6",
   "metadata": {},
   "source": [
    "There are outliers needed to be handled."
   ]
  },
  {
   "cell_type": "code",
   "execution_count": 127,
   "id": "465b4d67",
   "metadata": {},
   "outputs": [
    {
     "name": "stdout",
     "output_type": "stream",
     "text": [
      "25th Quantile value:  2.0\n",
      "Outlier low Count = 0\n",
      "List of Low outliers: \n",
      "\n",
      "Series([], Name: Minor_Skew, dtype: int64)\n",
      "75th Quantile value:  9.0\n",
      "Outlier High Count =  9\n",
      "List of High outliers: \n",
      "\n",
      "346    21\n",
      "623    22\n",
      "113    21\n",
      "797    21\n",
      "190    20\n",
      "123    22\n",
      "516    22\n",
      "400    21\n",
      "44     20\n",
      "Name: Minor_Skew, dtype: int64\n"
     ]
    }
   ],
   "source": [
    "handleOutlier(X_train['Minor_Skew'])"
   ]
  },
  {
   "cell_type": "code",
   "execution_count": 128,
   "id": "56514035",
   "metadata": {},
   "outputs": [
    {
     "data": {
      "text/html": [
       "<div>\n",
       "<style scoped>\n",
       "    .dataframe tbody tr th:only-of-type {\n",
       "        vertical-align: middle;\n",
       "    }\n",
       "\n",
       "    .dataframe tbody tr th {\n",
       "        vertical-align: top;\n",
       "    }\n",
       "\n",
       "    .dataframe thead th {\n",
       "        text-align: right;\n",
       "    }\n",
       "</style>\n",
       "<table border=\"1\" class=\"dataframe\">\n",
       "  <thead>\n",
       "    <tr style=\"text-align: right;\">\n",
       "      <th></th>\n",
       "      <th>Compactness</th>\n",
       "      <th>Circularity</th>\n",
       "      <th>Dist_Circ</th>\n",
       "      <th>Radius_Ratio</th>\n",
       "      <th>PR_Axis_Ratio</th>\n",
       "      <th>Max_Length_Ratio</th>\n",
       "      <th>Scatter_Ratio</th>\n",
       "      <th>Enlongatedness</th>\n",
       "      <th>PR_Axis_Rectangularity</th>\n",
       "      <th>Max_Length_Rectangularity</th>\n",
       "      <th>Major_Scaled_Var</th>\n",
       "      <th>Minor_Scaled_Var</th>\n",
       "      <th>Scaled Radius Gyration</th>\n",
       "      <th>Major_Skew</th>\n",
       "      <th>Minor_Skew</th>\n",
       "      <th>Minor_Kurtosis</th>\n",
       "      <th>Major_Kurtosis</th>\n",
       "      <th>Hollow_Ratio</th>\n",
       "      <th>Vehicle_Type</th>\n",
       "    </tr>\n",
       "  </thead>\n",
       "  <tbody>\n",
       "    <tr>\n",
       "      <th>346</th>\n",
       "      <td>117</td>\n",
       "      <td>52</td>\n",
       "      <td>110</td>\n",
       "      <td>228</td>\n",
       "      <td>65</td>\n",
       "      <td>12</td>\n",
       "      <td>212</td>\n",
       "      <td>31</td>\n",
       "      <td>24</td>\n",
       "      <td>163</td>\n",
       "      <td>228</td>\n",
       "      <td>668</td>\n",
       "      <td>220</td>\n",
       "      <td>66</td>\n",
       "      <td>21</td>\n",
       "      <td>25</td>\n",
       "      <td>194</td>\n",
       "      <td>205</td>\n",
       "      <td>saab</td>\n",
       "    </tr>\n",
       "    <tr>\n",
       "      <th>623</th>\n",
       "      <td>106</td>\n",
       "      <td>52</td>\n",
       "      <td>108</td>\n",
       "      <td>207</td>\n",
       "      <td>64</td>\n",
       "      <td>12</td>\n",
       "      <td>221</td>\n",
       "      <td>31</td>\n",
       "      <td>25</td>\n",
       "      <td>168</td>\n",
       "      <td>229</td>\n",
       "      <td>709</td>\n",
       "      <td>200</td>\n",
       "      <td>73</td>\n",
       "      <td>22</td>\n",
       "      <td>38</td>\n",
       "      <td>190</td>\n",
       "      <td>205</td>\n",
       "      <td>saab</td>\n",
       "    </tr>\n",
       "    <tr>\n",
       "      <th>113</th>\n",
       "      <td>88</td>\n",
       "      <td>35</td>\n",
       "      <td>50</td>\n",
       "      <td>121</td>\n",
       "      <td>58</td>\n",
       "      <td>5</td>\n",
       "      <td>114</td>\n",
       "      <td>59</td>\n",
       "      <td>17</td>\n",
       "      <td>122</td>\n",
       "      <td>132</td>\n",
       "      <td>192</td>\n",
       "      <td>138</td>\n",
       "      <td>74</td>\n",
       "      <td>21</td>\n",
       "      <td>4</td>\n",
       "      <td>182</td>\n",
       "      <td>187</td>\n",
       "      <td>opel</td>\n",
       "    </tr>\n",
       "    <tr>\n",
       "      <th>797</th>\n",
       "      <td>111</td>\n",
       "      <td>53</td>\n",
       "      <td>108</td>\n",
       "      <td>211</td>\n",
       "      <td>61</td>\n",
       "      <td>11</td>\n",
       "      <td>207</td>\n",
       "      <td>32</td>\n",
       "      <td>23</td>\n",
       "      <td>167</td>\n",
       "      <td>217</td>\n",
       "      <td>636</td>\n",
       "      <td>216</td>\n",
       "      <td>64</td>\n",
       "      <td>21</td>\n",
       "      <td>2</td>\n",
       "      <td>196</td>\n",
       "      <td>205</td>\n",
       "      <td>saab</td>\n",
       "    </tr>\n",
       "    <tr>\n",
       "      <th>190</th>\n",
       "      <td>97</td>\n",
       "      <td>48</td>\n",
       "      <td>94</td>\n",
       "      <td>198</td>\n",
       "      <td>63</td>\n",
       "      <td>9</td>\n",
       "      <td>181</td>\n",
       "      <td>36</td>\n",
       "      <td>21</td>\n",
       "      <td>155</td>\n",
       "      <td>200</td>\n",
       "      <td>494</td>\n",
       "      <td>189</td>\n",
       "      <td>64</td>\n",
       "      <td>20</td>\n",
       "      <td>11</td>\n",
       "      <td>199</td>\n",
       "      <td>203</td>\n",
       "      <td>opel</td>\n",
       "    </tr>\n",
       "    <tr>\n",
       "      <th>123</th>\n",
       "      <td>90</td>\n",
       "      <td>36</td>\n",
       "      <td>57</td>\n",
       "      <td>130</td>\n",
       "      <td>57</td>\n",
       "      <td>6</td>\n",
       "      <td>121</td>\n",
       "      <td>56</td>\n",
       "      <td>17</td>\n",
       "      <td>127</td>\n",
       "      <td>137</td>\n",
       "      <td>216</td>\n",
       "      <td>132</td>\n",
       "      <td>68</td>\n",
       "      <td>22</td>\n",
       "      <td>23</td>\n",
       "      <td>190</td>\n",
       "      <td>195</td>\n",
       "      <td>saab</td>\n",
       "    </tr>\n",
       "    <tr>\n",
       "      <th>516</th>\n",
       "      <td>92</td>\n",
       "      <td>42</td>\n",
       "      <td>75</td>\n",
       "      <td>172</td>\n",
       "      <td>60</td>\n",
       "      <td>8</td>\n",
       "      <td>147</td>\n",
       "      <td>45</td>\n",
       "      <td>19</td>\n",
       "      <td>142</td>\n",
       "      <td>174</td>\n",
       "      <td>322</td>\n",
       "      <td>160</td>\n",
       "      <td>62</td>\n",
       "      <td>22</td>\n",
       "      <td>10</td>\n",
       "      <td>206</td>\n",
       "      <td>211</td>\n",
       "      <td>opel</td>\n",
       "    </tr>\n",
       "    <tr>\n",
       "      <th>400</th>\n",
       "      <td>107</td>\n",
       "      <td>53</td>\n",
       "      <td>108</td>\n",
       "      <td>213</td>\n",
       "      <td>64</td>\n",
       "      <td>12</td>\n",
       "      <td>206</td>\n",
       "      <td>32</td>\n",
       "      <td>23</td>\n",
       "      <td>163</td>\n",
       "      <td>216</td>\n",
       "      <td>627</td>\n",
       "      <td>202</td>\n",
       "      <td>65</td>\n",
       "      <td>21</td>\n",
       "      <td>22</td>\n",
       "      <td>194</td>\n",
       "      <td>205</td>\n",
       "      <td>saab</td>\n",
       "    </tr>\n",
       "    <tr>\n",
       "      <th>44</th>\n",
       "      <td>119</td>\n",
       "      <td>54</td>\n",
       "      <td>106</td>\n",
       "      <td>220</td>\n",
       "      <td>65</td>\n",
       "      <td>12</td>\n",
       "      <td>213</td>\n",
       "      <td>31</td>\n",
       "      <td>24</td>\n",
       "      <td>167</td>\n",
       "      <td>223</td>\n",
       "      <td>675</td>\n",
       "      <td>232</td>\n",
       "      <td>66</td>\n",
       "      <td>20</td>\n",
       "      <td>1</td>\n",
       "      <td>192</td>\n",
       "      <td>202</td>\n",
       "      <td>saab</td>\n",
       "    </tr>\n",
       "  </tbody>\n",
       "</table>\n",
       "</div>"
      ],
      "text/plain": [
       "     Compactness  Circularity  Dist_Circ  Radius_Ratio  PR_Axis_Ratio  \\\n",
       "346          117           52        110           228             65   \n",
       "623          106           52        108           207             64   \n",
       "113           88           35         50           121             58   \n",
       "797          111           53        108           211             61   \n",
       "190           97           48         94           198             63   \n",
       "123           90           36         57           130             57   \n",
       "516           92           42         75           172             60   \n",
       "400          107           53        108           213             64   \n",
       "44           119           54        106           220             65   \n",
       "\n",
       "     Max_Length_Ratio  Scatter_Ratio  Enlongatedness  PR_Axis_Rectangularity  \\\n",
       "346                12            212              31                      24   \n",
       "623                12            221              31                      25   \n",
       "113                 5            114              59                      17   \n",
       "797                11            207              32                      23   \n",
       "190                 9            181              36                      21   \n",
       "123                 6            121              56                      17   \n",
       "516                 8            147              45                      19   \n",
       "400                12            206              32                      23   \n",
       "44                 12            213              31                      24   \n",
       "\n",
       "     Max_Length_Rectangularity  Major_Scaled_Var  Minor_Scaled_Var  \\\n",
       "346                        163               228               668   \n",
       "623                        168               229               709   \n",
       "113                        122               132               192   \n",
       "797                        167               217               636   \n",
       "190                        155               200               494   \n",
       "123                        127               137               216   \n",
       "516                        142               174               322   \n",
       "400                        163               216               627   \n",
       "44                         167               223               675   \n",
       "\n",
       "     Scaled Radius Gyration  Major_Skew  Minor_Skew  Minor_Kurtosis  \\\n",
       "346                     220          66          21              25   \n",
       "623                     200          73          22              38   \n",
       "113                     138          74          21               4   \n",
       "797                     216          64          21               2   \n",
       "190                     189          64          20              11   \n",
       "123                     132          68          22              23   \n",
       "516                     160          62          22              10   \n",
       "400                     202          65          21              22   \n",
       "44                      232          66          20               1   \n",
       "\n",
       "     Major_Kurtosis  Hollow_Ratio Vehicle_Type  \n",
       "346             194           205         saab  \n",
       "623             190           205         saab  \n",
       "113             182           187         opel  \n",
       "797             196           205         saab  \n",
       "190             199           203         opel  \n",
       "123             190           195         saab  \n",
       "516             206           211         opel  \n",
       "400             194           205         saab  \n",
       "44              192           202         saab  "
      ]
     },
     "execution_count": 128,
     "metadata": {},
     "output_type": "execute_result"
    }
   ],
   "source": [
    "X_train.loc[[346,623,113,797,190,123,516,400,44]]"
   ]
  },
  {
   "cell_type": "code",
   "execution_count": 129,
   "id": "6be00d02",
   "metadata": {},
   "outputs": [
    {
     "data": {
      "text/plain": [
       "623    22\n",
       "123    22\n",
       "400    21\n",
       "346    21\n",
       "797    21\n",
       "44     20\n",
       "196    19\n",
       "689    18\n",
       "Name: Minor_Skew, dtype: int64"
      ]
     },
     "execution_count": 129,
     "metadata": {},
     "output_type": "execute_result"
    }
   ],
   "source": [
    "# checking saab\n",
    "X_train[X_train['Vehicle_Type']=='saab']['Minor_Skew'].sort_values( ascending=False).head(8)\n",
    "\n"
   ]
  },
  {
   "cell_type": "code",
   "execution_count": 130,
   "id": "62cc9520",
   "metadata": {},
   "outputs": [
    {
     "data": {
      "text/plain": [
       "516    22\n",
       "113    21\n",
       "190    20\n",
       "65     18\n",
       "161    17\n",
       "811    16\n",
       "349    16\n",
       "112    16\n",
       "Name: Minor_Skew, dtype: int64"
      ]
     },
     "execution_count": 130,
     "metadata": {},
     "output_type": "execute_result"
    }
   ],
   "source": [
    "# checking opel\n",
    "X_train[X_train['Vehicle_Type']=='opel']['Minor_Skew'].sort_values( ascending=False).head(8)"
   ]
  },
  {
   "cell_type": "markdown",
   "id": "52f82908",
   "metadata": {},
   "source": [
    "Outliers in both types are not much different from the max value. We will keep them."
   ]
  },
  {
   "cell_type": "code",
   "execution_count": 131,
   "id": "59cedb0d",
   "metadata": {},
   "outputs": [
    {
     "name": "stderr",
     "output_type": "stream",
     "text": [
      "/Users/admin/opt/anaconda3/lib/python3.9/site-packages/seaborn/distributions.py:2619: FutureWarning: `distplot` is a deprecated function and will be removed in a future version. Please adapt your code to use either `displot` (a figure-level function with similar flexibility) or `histplot` (an axes-level function for histograms).\n",
      "  warnings.warn(msg, FutureWarning)\n",
      "/Users/admin/opt/anaconda3/lib/python3.9/site-packages/seaborn/_decorators.py:36: FutureWarning: Pass the following variable as a keyword arg: x. From version 0.12, the only valid positional argument will be `data`, and passing other arguments without an explicit keyword will result in an error or misinterpretation.\n",
      "  warnings.warn(\n"
     ]
    },
    {
     "data": {
      "text/plain": [
       "Text(0.5, 1.0, 'Box Plot')"
      ]
     },
     "execution_count": 131,
     "metadata": {},
     "output_type": "execute_result"
    },
    {
     "data": {
      "image/png": "[encoded data removed]",
      "text/plain": [
       "<Figure size 1440x288 with 2 Axes>"
      ]
     },
     "metadata": {
      "needs_background": "light"
     },
     "output_type": "display_data"
    }
   ],
   "source": [
    "fig,(ax1,ax2) = plt.subplots(nrows=1,ncols=2)\n",
    "fig.set_size_inches(20,4)\n",
    "sns.distplot(X_train['Major_Skew'],ax=ax1)\n",
    "ax1.set_title(\"Distribution Plot\")\n",
    "\n",
    "sns.boxplot(X_train['Major_Skew'],ax=ax2)\n",
    "ax2.set_title(\"Box Plot\")"
   ]
  },
  {
   "cell_type": "code",
   "execution_count": 132,
   "id": "88717803",
   "metadata": {},
   "outputs": [
    {
     "name": "stdout",
     "output_type": "stream",
     "text": [
      "25th Quantile value:  67.0\n",
      "Outlier low Count = 0\n",
      "List of Low outliers: \n",
      "\n",
      "Series([], Name: Major_Skew, dtype: int64)\n",
      "75th Quantile value:  75.0\n",
      "Outlier High Count =  4\n",
      "List of High outliers: \n",
      "\n",
      "498    88\n",
      "79     88\n",
      "230    89\n",
      "47     88\n",
      "Name: Major_Skew, dtype: int64\n"
     ]
    }
   ],
   "source": [
    "handleOutlier(X_train['Major_Skew'])"
   ]
  },
  {
   "cell_type": "code",
   "execution_count": 133,
   "id": "93be5300",
   "metadata": {
    "scrolled": true
   },
   "outputs": [
    {
     "data": {
      "text/html": [
       "<div>\n",
       "<style scoped>\n",
       "    .dataframe tbody tr th:only-of-type {\n",
       "        vertical-align: middle;\n",
       "    }\n",
       "\n",
       "    .dataframe tbody tr th {\n",
       "        vertical-align: top;\n",
       "    }\n",
       "\n",
       "    .dataframe thead th {\n",
       "        text-align: right;\n",
       "    }\n",
       "</style>\n",
       "<table border=\"1\" class=\"dataframe\">\n",
       "  <thead>\n",
       "    <tr style=\"text-align: right;\">\n",
       "      <th></th>\n",
       "      <th>Compactness</th>\n",
       "      <th>Circularity</th>\n",
       "      <th>Dist_Circ</th>\n",
       "      <th>Radius_Ratio</th>\n",
       "      <th>PR_Axis_Ratio</th>\n",
       "      <th>Max_Length_Ratio</th>\n",
       "      <th>Scatter_Ratio</th>\n",
       "      <th>Enlongatedness</th>\n",
       "      <th>PR_Axis_Rectangularity</th>\n",
       "      <th>Max_Length_Rectangularity</th>\n",
       "      <th>Major_Scaled_Var</th>\n",
       "      <th>Minor_Scaled_Var</th>\n",
       "      <th>Scaled Radius Gyration</th>\n",
       "      <th>Major_Skew</th>\n",
       "      <th>Minor_Skew</th>\n",
       "      <th>Minor_Kurtosis</th>\n",
       "      <th>Major_Kurtosis</th>\n",
       "      <th>Hollow_Ratio</th>\n",
       "      <th>Vehicle_Type</th>\n",
       "    </tr>\n",
       "  </thead>\n",
       "  <tbody>\n",
       "    <tr>\n",
       "      <th>498</th>\n",
       "      <td>88</td>\n",
       "      <td>36</td>\n",
       "      <td>53</td>\n",
       "      <td>113</td>\n",
       "      <td>57</td>\n",
       "      <td>3</td>\n",
       "      <td>118</td>\n",
       "      <td>57</td>\n",
       "      <td>17</td>\n",
       "      <td>128</td>\n",
       "      <td>137</td>\n",
       "      <td>204</td>\n",
       "      <td>136</td>\n",
       "      <td>88</td>\n",
       "      <td>7</td>\n",
       "      <td>14</td>\n",
       "      <td>180</td>\n",
       "      <td>183</td>\n",
       "      <td>van</td>\n",
       "    </tr>\n",
       "    <tr>\n",
       "      <th>79</th>\n",
       "      <td>89</td>\n",
       "      <td>44</td>\n",
       "      <td>68</td>\n",
       "      <td>113</td>\n",
       "      <td>50</td>\n",
       "      <td>7</td>\n",
       "      <td>150</td>\n",
       "      <td>45</td>\n",
       "      <td>19</td>\n",
       "      <td>147</td>\n",
       "      <td>171</td>\n",
       "      <td>328</td>\n",
       "      <td>189</td>\n",
       "      <td>88</td>\n",
       "      <td>6</td>\n",
       "      <td>5</td>\n",
       "      <td>179</td>\n",
       "      <td>182</td>\n",
       "      <td>bus</td>\n",
       "    </tr>\n",
       "    <tr>\n",
       "      <th>230</th>\n",
       "      <td>85</td>\n",
       "      <td>35</td>\n",
       "      <td>47</td>\n",
       "      <td>110</td>\n",
       "      <td>55</td>\n",
       "      <td>3</td>\n",
       "      <td>117</td>\n",
       "      <td>57</td>\n",
       "      <td>17</td>\n",
       "      <td>122</td>\n",
       "      <td>136</td>\n",
       "      <td>203</td>\n",
       "      <td>139</td>\n",
       "      <td>89</td>\n",
       "      <td>5</td>\n",
       "      <td>9</td>\n",
       "      <td>180</td>\n",
       "      <td>184</td>\n",
       "      <td>van</td>\n",
       "    </tr>\n",
       "    <tr>\n",
       "      <th>47</th>\n",
       "      <td>85</td>\n",
       "      <td>42</td>\n",
       "      <td>66</td>\n",
       "      <td>122</td>\n",
       "      <td>54</td>\n",
       "      <td>6</td>\n",
       "      <td>148</td>\n",
       "      <td>46</td>\n",
       "      <td>19</td>\n",
       "      <td>141</td>\n",
       "      <td>172</td>\n",
       "      <td>317</td>\n",
       "      <td>174</td>\n",
       "      <td>88</td>\n",
       "      <td>6</td>\n",
       "      <td>14</td>\n",
       "      <td>180</td>\n",
       "      <td>182</td>\n",
       "      <td>bus</td>\n",
       "    </tr>\n",
       "  </tbody>\n",
       "</table>\n",
       "</div>"
      ],
      "text/plain": [
       "     Compactness  Circularity  Dist_Circ  Radius_Ratio  PR_Axis_Ratio  \\\n",
       "498           88           36         53           113             57   \n",
       "79            89           44         68           113             50   \n",
       "230           85           35         47           110             55   \n",
       "47            85           42         66           122             54   \n",
       "\n",
       "     Max_Length_Ratio  Scatter_Ratio  Enlongatedness  PR_Axis_Rectangularity  \\\n",
       "498                 3            118              57                      17   \n",
       "79                  7            150              45                      19   \n",
       "230                 3            117              57                      17   \n",
       "47                  6            148              46                      19   \n",
       "\n",
       "     Max_Length_Rectangularity  Major_Scaled_Var  Minor_Scaled_Var  \\\n",
       "498                        128               137               204   \n",
       "79                         147               171               328   \n",
       "230                        122               136               203   \n",
       "47                         141               172               317   \n",
       "\n",
       "     Scaled Radius Gyration  Major_Skew  Minor_Skew  Minor_Kurtosis  \\\n",
       "498                     136          88           7              14   \n",
       "79                      189          88           6               5   \n",
       "230                     139          89           5               9   \n",
       "47                      174          88           6              14   \n",
       "\n",
       "     Major_Kurtosis  Hollow_Ratio Vehicle_Type  \n",
       "498             180           183          van  \n",
       "79              179           182          bus  \n",
       "230             180           184          van  \n",
       "47              180           182          bus  "
      ]
     },
     "execution_count": 133,
     "metadata": {},
     "output_type": "execute_result"
    }
   ],
   "source": [
    "X_train.loc[[498,79,230,47]]"
   ]
  },
  {
   "cell_type": "code",
   "execution_count": 134,
   "id": "a1e4782c",
   "metadata": {},
   "outputs": [
    {
     "data": {
      "text/plain": [
       "230    89\n",
       "498    88\n",
       "734    87\n",
       "795    86\n",
       "420    86\n",
       "41     86\n",
       "617    85\n",
       "546    85\n",
       "Name: Major_Skew, dtype: int64"
      ]
     },
     "execution_count": 134,
     "metadata": {},
     "output_type": "execute_result"
    }
   ],
   "source": [
    "# checking van\n",
    "X_train[X_train['Vehicle_Type']=='van']['Major_Skew'].sort_values( ascending=False).head(8)"
   ]
  },
  {
   "cell_type": "code",
   "execution_count": 135,
   "id": "ea45fdd7",
   "metadata": {
    "scrolled": true
   },
   "outputs": [
    {
     "data": {
      "text/plain": [
       "47     88\n",
       "79     88\n",
       "396    87\n",
       "568    87\n",
       "479    87\n",
       "790    87\n",
       "510    86\n",
       "141    86\n",
       "Name: Major_Skew, dtype: int64"
      ]
     },
     "execution_count": 135,
     "metadata": {},
     "output_type": "execute_result"
    }
   ],
   "source": [
    "# checking bus\n",
    "X_train[X_train['Vehicle_Type']=='bus']['Major_Skew'].sort_values( ascending=False).head(8)"
   ]
  },
  {
   "cell_type": "markdown",
   "id": "6ff19d89",
   "metadata": {},
   "source": [
    "Outliers in both types are not much different from the max value. We will keep them."
   ]
  },
  {
   "cell_type": "code",
   "execution_count": 136,
   "id": "a2e37965",
   "metadata": {
    "scrolled": true
   },
   "outputs": [
    {
     "name": "stderr",
     "output_type": "stream",
     "text": [
      "/Users/admin/opt/anaconda3/lib/python3.9/site-packages/seaborn/distributions.py:2619: FutureWarning: `distplot` is a deprecated function and will be removed in a future version. Please adapt your code to use either `displot` (a figure-level function with similar flexibility) or `histplot` (an axes-level function for histograms).\n",
      "  warnings.warn(msg, FutureWarning)\n",
      "/Users/admin/opt/anaconda3/lib/python3.9/site-packages/seaborn/_decorators.py:36: FutureWarning: Pass the following variable as a keyword arg: x. From version 0.12, the only valid positional argument will be `data`, and passing other arguments without an explicit keyword will result in an error or misinterpretation.\n",
      "  warnings.warn(\n"
     ]
    },
    {
     "data": {
      "text/plain": [
       "Text(0.5, 1.0, 'Box Plot')"
      ]
     },
     "execution_count": 136,
     "metadata": {},
     "output_type": "execute_result"
    },
    {
     "data": {
      "image/png": "[encoded data removed]",
      "text/plain": [
       "<Figure size 1440x288 with 2 Axes>"
      ]
     },
     "metadata": {
      "needs_background": "light"
     },
     "output_type": "display_data"
    }
   ],
   "source": [
    "fig,(ax1,ax2) = plt.subplots(nrows=1,ncols=2)\n",
    "fig.set_size_inches(20,4)\n",
    "sns.distplot(X_train['Major_Kurtosis'],ax=ax1)\n",
    "ax1.set_title(\"Distribution Plot\")\n",
    "\n",
    "sns.boxplot(X_train['Major_Kurtosis'],ax=ax2)\n",
    "ax2.set_title(\"Box Plot\")"
   ]
  },
  {
   "cell_type": "markdown",
   "id": "9b0eb2a6",
   "metadata": {},
   "source": [
    "There are outliers\n"
   ]
  },
  {
   "cell_type": "code",
   "execution_count": 137,
   "id": "30897d97",
   "metadata": {},
   "outputs": [
    {
     "name": "stdout",
     "output_type": "stream",
     "text": [
      "25th Quantile value:  184.5\n",
      "Outlier low Count = 0\n",
      "List of Low outliers: \n",
      "\n",
      "Series([], Name: Major_Kurtosis, dtype: int64)\n",
      "75th Quantile value:  193.0\n",
      "Outlier High Count =  1\n",
      "List of High outliers: \n",
      "\n",
      "516    206\n",
      "Name: Major_Kurtosis, dtype: int64\n"
     ]
    }
   ],
   "source": [
    "handleOutlier(X_train['Major_Kurtosis'])"
   ]
  },
  {
   "cell_type": "code",
   "execution_count": 138,
   "id": "0a9b37a8",
   "metadata": {},
   "outputs": [
    {
     "data": {
      "text/html": [
       "<div>\n",
       "<style scoped>\n",
       "    .dataframe tbody tr th:only-of-type {\n",
       "        vertical-align: middle;\n",
       "    }\n",
       "\n",
       "    .dataframe tbody tr th {\n",
       "        vertical-align: top;\n",
       "    }\n",
       "\n",
       "    .dataframe thead th {\n",
       "        text-align: right;\n",
       "    }\n",
       "</style>\n",
       "<table border=\"1\" class=\"dataframe\">\n",
       "  <thead>\n",
       "    <tr style=\"text-align: right;\">\n",
       "      <th></th>\n",
       "      <th>Compactness</th>\n",
       "      <th>Circularity</th>\n",
       "      <th>Dist_Circ</th>\n",
       "      <th>Radius_Ratio</th>\n",
       "      <th>PR_Axis_Ratio</th>\n",
       "      <th>Max_Length_Ratio</th>\n",
       "      <th>Scatter_Ratio</th>\n",
       "      <th>Enlongatedness</th>\n",
       "      <th>PR_Axis_Rectangularity</th>\n",
       "      <th>Max_Length_Rectangularity</th>\n",
       "      <th>Major_Scaled_Var</th>\n",
       "      <th>Minor_Scaled_Var</th>\n",
       "      <th>Scaled Radius Gyration</th>\n",
       "      <th>Major_Skew</th>\n",
       "      <th>Minor_Skew</th>\n",
       "      <th>Minor_Kurtosis</th>\n",
       "      <th>Major_Kurtosis</th>\n",
       "      <th>Hollow_Ratio</th>\n",
       "      <th>Vehicle_Type</th>\n",
       "    </tr>\n",
       "  </thead>\n",
       "  <tbody>\n",
       "    <tr>\n",
       "      <th>516</th>\n",
       "      <td>92</td>\n",
       "      <td>42</td>\n",
       "      <td>75</td>\n",
       "      <td>172</td>\n",
       "      <td>60</td>\n",
       "      <td>8</td>\n",
       "      <td>147</td>\n",
       "      <td>45</td>\n",
       "      <td>19</td>\n",
       "      <td>142</td>\n",
       "      <td>174</td>\n",
       "      <td>322</td>\n",
       "      <td>160</td>\n",
       "      <td>62</td>\n",
       "      <td>22</td>\n",
       "      <td>10</td>\n",
       "      <td>206</td>\n",
       "      <td>211</td>\n",
       "      <td>opel</td>\n",
       "    </tr>\n",
       "  </tbody>\n",
       "</table>\n",
       "</div>"
      ],
      "text/plain": [
       "     Compactness  Circularity  Dist_Circ  Radius_Ratio  PR_Axis_Ratio  \\\n",
       "516           92           42         75           172             60   \n",
       "\n",
       "     Max_Length_Ratio  Scatter_Ratio  Enlongatedness  PR_Axis_Rectangularity  \\\n",
       "516                 8            147              45                      19   \n",
       "\n",
       "     Max_Length_Rectangularity  Major_Scaled_Var  Minor_Scaled_Var  \\\n",
       "516                        142               174               322   \n",
       "\n",
       "     Scaled Radius Gyration  Major_Skew  Minor_Skew  Minor_Kurtosis  \\\n",
       "516                     160          62          22              10   \n",
       "\n",
       "     Major_Kurtosis  Hollow_Ratio Vehicle_Type  \n",
       "516             206           211         opel  "
      ]
     },
     "execution_count": 138,
     "metadata": {},
     "output_type": "execute_result"
    }
   ],
   "source": [
    "X_train.loc[[516]]"
   ]
  },
  {
   "cell_type": "code",
   "execution_count": 139,
   "id": "96ef2a0a",
   "metadata": {},
   "outputs": [
    {
     "data": {
      "text/plain": [
       "516    206\n",
       "615    204\n",
       "152    203\n",
       "349    203\n",
       "840    201\n",
       "210    201\n",
       "578    200\n",
       "190    199\n",
       "Name: Major_Kurtosis, dtype: int64"
      ]
     },
     "execution_count": 139,
     "metadata": {},
     "output_type": "execute_result"
    }
   ],
   "source": [
    "# checking the row\n",
    "X_train[X_train['Vehicle_Type']=='opel']['Major_Kurtosis'].sort_values( ascending=False).head(8)"
   ]
  },
  {
   "cell_type": "markdown",
   "id": "e35134c0",
   "metadata": {},
   "source": [
    "Just a slightly change. We will keep it."
   ]
  },
  {
   "cell_type": "code",
   "execution_count": 140,
   "id": "59bf90f2",
   "metadata": {},
   "outputs": [
    {
     "name": "stderr",
     "output_type": "stream",
     "text": [
      "/Users/admin/opt/anaconda3/lib/python3.9/site-packages/seaborn/distributions.py:2619: FutureWarning: `distplot` is a deprecated function and will be removed in a future version. Please adapt your code to use either `displot` (a figure-level function with similar flexibility) or `histplot` (an axes-level function for histograms).\n",
      "  warnings.warn(msg, FutureWarning)\n",
      "/Users/admin/opt/anaconda3/lib/python3.9/site-packages/seaborn/_decorators.py:36: FutureWarning: Pass the following variable as a keyword arg: x. From version 0.12, the only valid positional argument will be `data`, and passing other arguments without an explicit keyword will result in an error or misinterpretation.\n",
      "  warnings.warn(\n"
     ]
    },
    {
     "data": {
      "text/plain": [
       "Text(0.5, 1.0, 'Box Plot')"
      ]
     },
     "execution_count": 140,
     "metadata": {},
     "output_type": "execute_result"
    },
    {
     "data": {
      "image/png": "[encoded data removed]",
      "text/plain": [
       "<Figure size 1440x288 with 2 Axes>"
      ]
     },
     "metadata": {
      "needs_background": "light"
     },
     "output_type": "display_data"
    }
   ],
   "source": [
    "fig,(ax1,ax2) = plt.subplots(nrows=1,ncols=2)\n",
    "fig.set_size_inches(20,4)\n",
    "sns.distplot(X_train['Minor_Kurtosis'],ax=ax1)\n",
    "ax1.set_title(\"Distribution Plot\")\n",
    "\n",
    "sns.boxplot(X_train['Minor_Kurtosis'],ax=ax2)\n",
    "ax2.set_title(\"Box Plot\")"
   ]
  },
  {
   "cell_type": "code",
   "execution_count": 141,
   "id": "afbe0606",
   "metadata": {},
   "outputs": [
    {
     "name": "stderr",
     "output_type": "stream",
     "text": [
      "/Users/admin/opt/anaconda3/lib/python3.9/site-packages/seaborn/distributions.py:2619: FutureWarning: `distplot` is a deprecated function and will be removed in a future version. Please adapt your code to use either `displot` (a figure-level function with similar flexibility) or `histplot` (an axes-level function for histograms).\n",
      "  warnings.warn(msg, FutureWarning)\n",
      "/Users/admin/opt/anaconda3/lib/python3.9/site-packages/seaborn/_decorators.py:36: FutureWarning: Pass the following variable as a keyword arg: x. From version 0.12, the only valid positional argument will be `data`, and passing other arguments without an explicit keyword will result in an error or misinterpretation.\n",
      "  warnings.warn(\n"
     ]
    },
    {
     "data": {
      "text/plain": [
       "Text(0.5, 1.0, 'Box Plot')"
      ]
     },
     "execution_count": 141,
     "metadata": {},
     "output_type": "execute_result"
    },
    {
     "data": {
      "image/png": "[encoded data removed]",
      "text/plain": [
       "<Figure size 1440x288 with 2 Axes>"
      ]
     },
     "metadata": {
      "needs_background": "light"
     },
     "output_type": "display_data"
    }
   ],
   "source": [
    "fig,(ax1,ax2) = plt.subplots(nrows=1,ncols=2)\n",
    "fig.set_size_inches(20,4)\n",
    "sns.distplot(X_train['Hollow_Ratio'],ax=ax1)\n",
    "ax1.set_title(\"Distribution Plot\")\n",
    "\n",
    "sns.boxplot(X_train['Hollow_Ratio'],ax=ax2)\n",
    "ax2.set_title(\"Box Plot\")"
   ]
  },
  {
   "cell_type": "markdown",
   "id": "a2cbb413",
   "metadata": {},
   "source": [
    "No outliers!"
   ]
  },
  {
   "cell_type": "code",
   "execution_count": 142,
   "id": "7349b1fc",
   "metadata": {},
   "outputs": [
    {
     "data": {
      "text/html": [
       "<div>\n",
       "<style scoped>\n",
       "    .dataframe tbody tr th:only-of-type {\n",
       "        vertical-align: middle;\n",
       "    }\n",
       "\n",
       "    .dataframe tbody tr th {\n",
       "        vertical-align: top;\n",
       "    }\n",
       "\n",
       "    .dataframe thead th {\n",
       "        text-align: right;\n",
       "    }\n",
       "</style>\n",
       "<table border=\"1\" class=\"dataframe\">\n",
       "  <thead>\n",
       "    <tr style=\"text-align: right;\">\n",
       "      <th></th>\n",
       "      <th>Compactness</th>\n",
       "      <th>Circularity</th>\n",
       "      <th>Dist_Circ</th>\n",
       "      <th>Radius_Ratio</th>\n",
       "      <th>PR_Axis_Ratio</th>\n",
       "      <th>Max_Length_Ratio</th>\n",
       "      <th>Scatter_Ratio</th>\n",
       "      <th>Enlongatedness</th>\n",
       "      <th>PR_Axis_Rectangularity</th>\n",
       "      <th>Max_Length_Rectangularity</th>\n",
       "      <th>Major_Scaled_Var</th>\n",
       "      <th>Minor_Scaled_Var</th>\n",
       "      <th>Scaled Radius Gyration</th>\n",
       "      <th>Major_Skew</th>\n",
       "      <th>Minor_Skew</th>\n",
       "      <th>Minor_Kurtosis</th>\n",
       "      <th>Major_Kurtosis</th>\n",
       "      <th>Hollow_Ratio</th>\n",
       "      <th>Vehicle_Type</th>\n",
       "    </tr>\n",
       "  </thead>\n",
       "  <tbody>\n",
       "    <tr>\n",
       "      <th>367</th>\n",
       "      <td>82</td>\n",
       "      <td>37</td>\n",
       "      <td>59</td>\n",
       "      <td>134</td>\n",
       "      <td>63</td>\n",
       "      <td>7</td>\n",
       "      <td>135</td>\n",
       "      <td>51</td>\n",
       "      <td>18</td>\n",
       "      <td>128</td>\n",
       "      <td>151</td>\n",
       "      <td>264</td>\n",
       "      <td>143</td>\n",
       "      <td>82</td>\n",
       "      <td>11</td>\n",
       "      <td>24</td>\n",
       "      <td>179</td>\n",
       "      <td>185</td>\n",
       "      <td>saab</td>\n",
       "    </tr>\n",
       "    <tr>\n",
       "      <th>642</th>\n",
       "      <td>95</td>\n",
       "      <td>46</td>\n",
       "      <td>104</td>\n",
       "      <td>208</td>\n",
       "      <td>66</td>\n",
       "      <td>9</td>\n",
       "      <td>191</td>\n",
       "      <td>35</td>\n",
       "      <td>22</td>\n",
       "      <td>148</td>\n",
       "      <td>210</td>\n",
       "      <td>543</td>\n",
       "      <td>169</td>\n",
       "      <td>68</td>\n",
       "      <td>0</td>\n",
       "      <td>28</td>\n",
       "      <td>190</td>\n",
       "      <td>200</td>\n",
       "      <td>saab</td>\n",
       "    </tr>\n",
       "    <tr>\n",
       "      <th>707</th>\n",
       "      <td>92</td>\n",
       "      <td>35</td>\n",
       "      <td>58</td>\n",
       "      <td>136</td>\n",
       "      <td>58</td>\n",
       "      <td>6</td>\n",
       "      <td>122</td>\n",
       "      <td>55</td>\n",
       "      <td>17</td>\n",
       "      <td>132</td>\n",
       "      <td>142</td>\n",
       "      <td>222</td>\n",
       "      <td>116</td>\n",
       "      <td>64</td>\n",
       "      <td>6</td>\n",
       "      <td>17</td>\n",
       "      <td>197</td>\n",
       "      <td>203</td>\n",
       "      <td>van</td>\n",
       "    </tr>\n",
       "    <tr>\n",
       "      <th>2</th>\n",
       "      <td>104</td>\n",
       "      <td>50</td>\n",
       "      <td>106</td>\n",
       "      <td>209</td>\n",
       "      <td>66</td>\n",
       "      <td>10</td>\n",
       "      <td>207</td>\n",
       "      <td>32</td>\n",
       "      <td>23</td>\n",
       "      <td>158</td>\n",
       "      <td>223</td>\n",
       "      <td>635</td>\n",
       "      <td>220</td>\n",
       "      <td>73</td>\n",
       "      <td>14</td>\n",
       "      <td>9</td>\n",
       "      <td>188</td>\n",
       "      <td>196</td>\n",
       "      <td>saab</td>\n",
       "    </tr>\n",
       "    <tr>\n",
       "      <th>229</th>\n",
       "      <td>86</td>\n",
       "      <td>41</td>\n",
       "      <td>64</td>\n",
       "      <td>148</td>\n",
       "      <td>61</td>\n",
       "      <td>5</td>\n",
       "      <td>150</td>\n",
       "      <td>45</td>\n",
       "      <td>19</td>\n",
       "      <td>138</td>\n",
       "      <td>165</td>\n",
       "      <td>333</td>\n",
       "      <td>173</td>\n",
       "      <td>80</td>\n",
       "      <td>5</td>\n",
       "      <td>8</td>\n",
       "      <td>182</td>\n",
       "      <td>185</td>\n",
       "      <td>saab</td>\n",
       "    </tr>\n",
       "  </tbody>\n",
       "</table>\n",
       "</div>"
      ],
      "text/plain": [
       "     Compactness  Circularity  Dist_Circ  Radius_Ratio  PR_Axis_Ratio  \\\n",
       "367           82           37         59           134             63   \n",
       "642           95           46        104           208             66   \n",
       "707           92           35         58           136             58   \n",
       "2            104           50        106           209             66   \n",
       "229           86           41         64           148             61   \n",
       "\n",
       "     Max_Length_Ratio  Scatter_Ratio  Enlongatedness  PR_Axis_Rectangularity  \\\n",
       "367                 7            135              51                      18   \n",
       "642                 9            191              35                      22   \n",
       "707                 6            122              55                      17   \n",
       "2                  10            207              32                      23   \n",
       "229                 5            150              45                      19   \n",
       "\n",
       "     Max_Length_Rectangularity  Major_Scaled_Var  Minor_Scaled_Var  \\\n",
       "367                        128               151               264   \n",
       "642                        148               210               543   \n",
       "707                        132               142               222   \n",
       "2                          158               223               635   \n",
       "229                        138               165               333   \n",
       "\n",
       "     Scaled Radius Gyration  Major_Skew  Minor_Skew  Minor_Kurtosis  \\\n",
       "367                     143          82          11              24   \n",
       "642                     169          68           0              28   \n",
       "707                     116          64           6              17   \n",
       "2                       220          73          14               9   \n",
       "229                     173          80           5               8   \n",
       "\n",
       "     Major_Kurtosis  Hollow_Ratio Vehicle_Type  \n",
       "367             179           185         saab  \n",
       "642             190           200         saab  \n",
       "707             197           203          van  \n",
       "2               188           196         saab  \n",
       "229             182           185         saab  "
      ]
     },
     "execution_count": 142,
     "metadata": {},
     "output_type": "execute_result"
    }
   ],
   "source": [
    "X_train.head()"
   ]
  },
  {
   "cell_type": "markdown",
   "id": "08b5dc2b",
   "metadata": {},
   "source": [
    "<b>PCA and Dimentionality Reduction </b>"
   ]
  },
  {
   "cell_type": "code",
   "execution_count": 143,
   "id": "0ce49a2f",
   "metadata": {},
   "outputs": [],
   "source": [
    "y_to_train=X_train['Vehicle_Type']\n",
    "X_to_train=X_train.drop(labels='Vehicle_Type', axis=1)\n",
    "y_to_test=X_test['Vehicle_Type']\n",
    "X_to_test=X_test.drop(labels='Vehicle_Type', axis=1)\n"
   ]
  },
  {
   "cell_type": "code",
   "execution_count": 144,
   "id": "882886c8",
   "metadata": {},
   "outputs": [],
   "source": [
    "from sklearn.preprocessing import StandardScaler\n",
    "\n",
    "scaler = StandardScaler()"
   ]
  },
  {
   "cell_type": "code",
   "execution_count": 145,
   "id": "f94d6cf5",
   "metadata": {},
   "outputs": [
    {
     "data": {
      "text/plain": [
       "StandardScaler()"
      ]
     },
     "execution_count": 145,
     "metadata": {},
     "output_type": "execute_result"
    }
   ],
   "source": [
    "scaler.fit(X_to_train)"
   ]
  },
  {
   "cell_type": "code",
   "execution_count": 146,
   "id": "e381ff5a",
   "metadata": {},
   "outputs": [],
   "source": [
    "X_train_scaled = scaler.transform(X_to_train)\n",
    "X_test_scaled= scaler.transform(X_to_test)"
   ]
  },
  {
   "cell_type": "code",
   "execution_count": 147,
   "id": "04cb1665",
   "metadata": {},
   "outputs": [
    {
     "name": "stdout",
     "output_type": "stream",
     "text": [
      "Covariance Matrix \n",
      "%s [[ 1.00171821  0.70896656  0.80098503  0.75126509  0.19942665  0.53294407\n",
      "   0.82084885 -0.7930435   0.82298779  0.70130525  0.80070072  0.82664918\n",
      "   0.60252261 -0.25276219  0.20383352  0.12200785  0.28996599  0.35472527]\n",
      " [ 0.70896656  1.00171821  0.8096198   0.67228118  0.20947378  0.57582912\n",
      "   0.86947604 -0.83605762  0.8677792   0.97122418  0.83228035  0.86263829\n",
      "   0.93988615  0.04290716  0.13866773 -0.01231304 -0.09540489  0.0582611 ]\n",
      " [ 0.80098503  0.8096198   1.00171821  0.82826502  0.25837893  0.69838484\n",
      "   0.91408048 -0.92061118  0.9005146   0.78809572  0.89119317  0.89512289\n",
      "   0.71644211 -0.26579551  0.11070542  0.24221805  0.15849957  0.34653219]\n",
      " [ 0.75126509  0.67228118  0.82826502  1.00171821  0.6728968   0.51367661\n",
      "   0.80320047 -0.85773386  0.77386148  0.61758896  0.79898543  0.78960915\n",
      "   0.57553943 -0.41503744  0.04781468  0.1843635   0.42569695  0.51732482]\n",
      " [ 0.19942665  0.20947378  0.25837893  0.6728968   1.00171821  0.16308321\n",
      "   0.20973097 -0.31624755  0.17132922  0.16468628  0.21902847  0.1944352\n",
      "   0.15382736 -0.34385425 -0.06919546 -0.02104821  0.42283111  0.44300413]\n",
      " [ 0.53294407  0.57582912  0.69838484  0.51367661  0.16308321  1.00171821\n",
      "   0.5204018  -0.53617041  0.5145103   0.6545969   0.44036088  0.48235118\n",
      "   0.42299205 -0.3864339   0.10404603  0.12271502  0.11817695  0.44504733]\n",
      " [ 0.82084885  0.86947604  0.91408048  0.80320047  0.20973097  0.5204018\n",
      "   1.00171821 -0.97447108  0.99366925  0.8256287   0.98442018  0.99804638\n",
      "   0.81162842 -0.0145616   0.05983887  0.20059643  0.01236376  0.1305611 ]\n",
      " [-0.7930435  -0.83605762 -0.92061118 -0.85773386 -0.31624755 -0.53617041\n",
      "  -0.97447108  1.00171821 -0.95004477 -0.78895762 -0.96837092 -0.9569303\n",
      "  -0.77448815  0.11153217 -0.03114745 -0.17588287 -0.12478412 -0.23236216]\n",
      " [ 0.82298779  0.8677792   0.9005146   0.77386148  0.17132922  0.5145103\n",
      "   0.99366925 -0.95004477  1.00171821  0.82839879  0.97250307  0.99459871\n",
      "   0.81020035  0.00520459  0.06762294  0.20051973 -0.01643956  0.10620893]\n",
      " [ 0.70130525  0.97122418  0.78809572  0.61758896  0.16468628  0.6545969\n",
      "   0.8256287  -0.78895762  0.82839879  1.00171821  0.7767574   0.81518568\n",
      "   0.87782176  0.02031962  0.12898888 -0.00727704 -0.08748606  0.0909597 ]\n",
      " [ 0.80070072  0.83228035  0.89119317  0.79898543  0.21902847  0.44036088\n",
      "   0.98442018 -0.96837092  0.97250307  0.7767574   1.00171821  0.98284821\n",
      "   0.8016038   0.00834329  0.03225907  0.19249056  0.02957243  0.10283881]\n",
      " [ 0.82664918  0.86263829  0.89512289  0.78960915  0.1944352   0.48235118\n",
      "   0.99804638 -0.9569303   0.99459871  0.81518568  0.98284821  1.00171821\n",
      "   0.80908312  0.00190985  0.06430372  0.19304623  0.0094033   0.11245008]\n",
      " [ 0.60252261  0.93988615  0.71644211  0.57553943  0.15382736  0.42299205\n",
      "   0.81162842 -0.77448815  0.81020035  0.87782176  0.8016038   0.80908312\n",
      "   1.00171821  0.1907325   0.15923356 -0.05131808 -0.21193718 -0.09783518]\n",
      " [-0.25276219  0.04290716 -0.26579551 -0.41503744 -0.34385425 -0.3864339\n",
      "  -0.0145616   0.11153217  0.00520459  0.02031962  0.00834329  0.00190985\n",
      "   0.1907325   1.00171821 -0.11341747 -0.11539675 -0.85027963 -0.92069976]\n",
      " [ 0.20383352  0.13866773  0.11070542  0.04781468 -0.06919546  0.10404603\n",
      "   0.05983887 -0.03114745  0.06762294  0.12898888  0.03225907  0.06430372\n",
      "   0.15923356 -0.11341747  1.00171821 -0.06114103  0.11846127  0.09593123]\n",
      " [ 0.12200785 -0.01231304  0.24221805  0.1843635  -0.02104821  0.12271502\n",
      "   0.20059643 -0.17588287  0.20051973 -0.00727704  0.19249056  0.19304623\n",
      "  -0.05131808 -0.11539675 -0.06114103  1.00171821  0.06226837  0.17967274]\n",
      " [ 0.28996599 -0.09540489  0.15849957  0.42569695  0.42283111  0.11817695\n",
      "   0.01236376 -0.12478412 -0.01643956 -0.08748606  0.02957243  0.0094033\n",
      "  -0.21193718 -0.85027963  0.11846127  0.06226837  1.00171821  0.89396372]\n",
      " [ 0.35472527  0.0582611   0.34653219  0.51732482  0.44300413  0.44504733\n",
      "   0.1305611  -0.23236216  0.10620893  0.0909597   0.10283881  0.11245008\n",
      "  -0.09783518 -0.92069976  0.09593123  0.17967274  0.89396372  1.00171821]]\n"
     ]
    }
   ],
   "source": [
    "# Covariance Matrix\n",
    "cov_matrix = np.cov(X_train_scaled.T)\n",
    "\n",
    "print('Covariance Matrix \\n%s', cov_matrix)"
   ]
  },
  {
   "cell_type": "code",
   "execution_count": 148,
   "id": "15ea0302",
   "metadata": {},
   "outputs": [
    {
     "name": "stdout",
     "output_type": "stream",
     "text": [
      "Eigen Vectors \n",
      "%s [[-2.72032543e-01 -7.13975770e-02  8.10998453e-02  1.14287726e-01\n",
      "  -1.26083066e-01 -2.90465839e-01  2.40215420e-01 -7.59358822e-01\n",
      "   3.13957522e-01 -1.69247885e-01 -6.24343863e-02  1.24788858e-02\n",
      "  -1.63624612e-01  9.23531671e-02  1.51314330e-03  2.64824637e-03\n",
      "   8.05439851e-03 -4.57779100e-03]\n",
      " [-2.87330182e-01  1.32147219e-01  1.71534028e-01 -8.72357688e-02\n",
      "   1.19925678e-01  1.01034895e-01 -3.75827722e-01 -8.69451413e-02\n",
      "   5.89790729e-02  2.03360197e-01 -5.30706021e-02 -2.32211069e-02\n",
      "  -1.30317657e-01 -2.13615583e-01  1.03716340e-02  1.89906754e-01\n",
      "   6.26174789e-01 -3.87914157e-01]\n",
      " [-3.00680561e-01 -4.46464997e-02 -3.03449001e-02  1.21018689e-01\n",
      "   8.74447253e-02  1.44248920e-02  1.72274073e-01  2.93029105e-01\n",
      "   2.14678864e-01 -7.45203872e-02 -7.40688062e-01  3.48042750e-01\n",
      "   1.69838776e-01 -2.98309432e-02 -1.05914862e-02 -3.65164028e-02\n",
      "  -5.77228687e-02 -1.12813870e-01]\n",
      " [-2.74637847e-01 -1.93887587e-01 -1.24330509e-01 -2.08250222e-01\n",
      "  -1.43620841e-01  1.27917877e-01  1.60500979e-01  5.01333433e-02\n",
      "   1.73641948e-01  4.89797042e-02  1.02056389e-01 -2.18162106e-01\n",
      "  -8.98417825e-03 -7.85540334e-01 -2.67088122e-02  6.24511261e-03\n",
      "  -1.84286258e-01  1.43047942e-01]\n",
      " [-1.01023410e-01 -2.64054073e-01 -1.28369532e-01 -6.09111371e-01\n",
      "  -1.60203333e-01  5.53408429e-01  1.41327648e-01 -1.57566806e-01\n",
      "  -4.05125708e-03  3.60196958e-02 -3.23150511e-02  9.79500720e-02\n",
      "   5.96468342e-02  3.65893180e-01  1.76608242e-02 -3.52595503e-03\n",
      "   6.17359828e-02 -4.82076343e-02]\n",
      " [-2.01314406e-01 -1.19900702e-01  1.92592240e-01  2.15181226e-01\n",
      "   6.39755099e-01  2.82562936e-01  3.89841108e-01 -3.90156904e-02\n",
      "  -1.96533189e-01 -2.31874415e-01  1.81774662e-01 -2.23263289e-01\n",
      "   1.81780993e-01  1.50576270e-02 -1.12820074e-02  1.73685128e-03\n",
      "   6.60539459e-02 -7.76584794e-02]\n",
      " [-3.07942075e-01  8.00651666e-02 -9.67669341e-02  3.11848361e-02\n",
      "  -8.10841265e-02 -9.94066273e-02  8.33974038e-02  1.03568627e-01\n",
      "  -1.16818527e-01  1.13820645e-01  1.74047558e-01  5.07884513e-02\n",
      "  -3.71374571e-02  5.54274587e-02  7.91610661e-01 -3.82679865e-01\n",
      "  -7.81278646e-03 -1.31185121e-01]\n",
      " [ 3.05909385e-01 -1.50349239e-02  1.09659517e-01  4.31820217e-02\n",
      "   6.74241976e-02  8.17045940e-02 -9.07198006e-02 -2.53940432e-01\n",
      "   2.61946462e-01  1.18851044e-01  9.93391212e-02  3.01924979e-01\n",
      "   6.90725843e-01 -1.93086727e-01  2.20553016e-01 -5.98810617e-02\n",
      "   1.62520827e-01  1.77680816e-01]\n",
      " [-3.04632798e-01  9.53412880e-02 -8.55798342e-02  5.63910062e-02\n",
      "  -7.52188197e-02 -1.13793814e-01  7.86986471e-02  4.53131489e-02\n",
      "  -5.66576294e-02  2.22872628e-01  3.08723310e-01  2.41694461e-01\n",
      "   2.50515369e-01  1.08443013e-01 -1.72443229e-02  6.57945418e-01\n",
      "  -3.17075700e-01 -2.14239156e-01]\n",
      " [-2.77756936e-01  1.18098095e-01  2.02402748e-01 -3.06372662e-02\n",
      "   2.42196455e-01  1.09549750e-01 -3.45374039e-01 -2.57214906e-01\n",
      "  -2.18677093e-01  4.43830965e-01 -2.35314781e-01 -9.08701258e-02\n",
      "   2.94356514e-03  6.21266316e-02 -1.87757476e-02 -1.04253024e-01\n",
      "  -3.74920180e-01  3.83150931e-01]\n",
      " [-3.00620076e-01  8.39004812e-02 -1.35978949e-01 -6.70374245e-03\n",
      "  -1.51392216e-01 -1.50916606e-01  6.34810654e-02  1.62901340e-01\n",
      "  -8.55335741e-02 -1.26543417e-01 -3.53071726e-02 -1.94354677e-01\n",
      "   1.80270099e-01  1.65531241e-01  4.16607876e-02  2.30167514e-01\n",
      "   4.58811508e-01  6.48323048e-01]\n",
      " [-3.04833648e-01  8.83723285e-02 -9.64372446e-02  2.98470448e-02\n",
      "  -1.16828221e-01 -1.34150640e-01  6.08920026e-02  5.17222865e-02\n",
      "  -7.10583994e-02  1.75648576e-01  2.75188838e-01  1.61107196e-01\n",
      "   2.35795813e-01  5.85754054e-02 -5.65783189e-01 -5.55961508e-01\n",
      "   1.25384859e-01 -9.74959857e-02]\n",
      " [-2.61745579e-01  2.06917059e-01  1.72429048e-01 -1.26659020e-01\n",
      "   7.55704098e-04  1.17929356e-01 -4.67917348e-01  1.12969157e-01\n",
      "   2.95812266e-01 -6.24663322e-01  2.00383425e-01  2.07137100e-02\n",
      "   9.22710784e-02  8.17919457e-02  4.20761079e-03 -7.33240741e-02\n",
      "  -2.41127623e-01  1.58572643e-02]\n",
      " [ 5.23945928e-02  5.03900402e-01 -9.66124867e-02 -1.05732788e-01\n",
      "  -1.46327095e-01  1.11184482e-01  1.11200151e-01 -2.73183577e-01\n",
      "  -5.77379237e-01 -3.23168559e-01 -1.61880842e-01  2.20201958e-01\n",
      "   6.15898078e-02 -2.88356031e-01 -7.30721603e-03  2.02329461e-02\n",
      "   1.82117702e-03 -4.63664649e-02]\n",
      " [-3.64847496e-02 -4.05976793e-02  6.53658557e-01  3.39149524e-01\n",
      "  -5.53082417e-01  3.29329659e-01  1.33673535e-01  1.05943687e-01\n",
      "  -7.86915665e-02  5.49593197e-02  1.74928757e-02 -5.65769268e-03\n",
      "  -2.36102955e-02  1.06985074e-02 -3.51511726e-03  6.68637233e-03\n",
      "   1.31412248e-02  2.87290799e-02]\n",
      " [-5.30669389e-02 -7.74576615e-02 -5.71280457e-01  5.89072071e-01\n",
      "  -1.36986910e-01  4.46092208e-01 -2.56596445e-01 -1.53770851e-01\n",
      "   2.90890596e-02 -2.29228859e-02 -9.98270394e-03 -8.58877833e-02\n",
      "  -4.72857233e-03  2.97152571e-02 -8.11937641e-03  1.75844838e-04\n",
      "   2.50764754e-03 -2.72115183e-02]\n",
      " [-4.27484746e-02 -4.99975427e-01  4.31330237e-02 -3.93171070e-02\n",
      "  -1.87201741e-01 -2.90196544e-01 -2.78298892e-01 -7.84322270e-02\n",
      "  -3.74924711e-01 -1.65247393e-01 -1.88888650e-01 -3.18660735e-01\n",
      "   3.99616706e-01 -5.15052326e-03  2.60167440e-02 -5.58835616e-03\n",
      "  -5.10989952e-02 -2.71647493e-01]\n",
      " [-8.93653822e-02 -5.04853372e-01  4.49685791e-02  7.28513042e-02\n",
      "   1.15617166e-01 -5.02835025e-02 -1.81077953e-01  6.02544913e-03\n",
      "  -2.62555853e-01 -1.44516257e-01  1.72921720e-01  6.23797658e-01\n",
      "  -2.97977772e-01 -1.26894266e-01 -3.45767349e-03  2.86004097e-02\n",
      "   8.73553259e-02  2.42665122e-01]]\n",
      "\n",
      " Eigen Values \n",
      "%s [9.97432193e+00 3.37729049e+00 1.22083392e+00 1.11788876e+00\n",
      " 8.35006256e-01 6.30550052e-01 3.07179858e-01 2.19004393e-01\n",
      " 1.02431245e-01 7.31324280e-02 5.48846957e-02 4.18677794e-02\n",
      " 2.55573194e-02 2.04245824e-02 3.24110846e-04 5.70832649e-03\n",
      " 1.04972990e-02 1.40243959e-02]\n"
     ]
    }
   ],
   "source": [
    "eig_vals, eig_vecs = np.linalg.eig(cov_matrix)\n",
    "print('Eigen Vectors \\n%s', eig_vecs)\n",
    "print('\\n Eigen Values \\n%s', eig_vals)"
   ]
  },
  {
   "cell_type": "code",
   "execution_count": 149,
   "id": "18a0ff1a",
   "metadata": {
    "scrolled": true
   },
   "outputs": [
    {
     "name": "stdout",
     "output_type": "stream",
     "text": [
      "Eigen Values:\n"
     ]
    },
    {
     "data": {
      "text/html": [
       "<div>\n",
       "<style scoped>\n",
       "    .dataframe tbody tr th:only-of-type {\n",
       "        vertical-align: middle;\n",
       "    }\n",
       "\n",
       "    .dataframe tbody tr th {\n",
       "        vertical-align: top;\n",
       "    }\n",
       "\n",
       "    .dataframe thead th {\n",
       "        text-align: right;\n",
       "    }\n",
       "</style>\n",
       "<table border=\"1\" class=\"dataframe\">\n",
       "  <thead>\n",
       "    <tr style=\"text-align: right;\">\n",
       "      <th></th>\n",
       "      <th>0</th>\n",
       "      <th>1</th>\n",
       "      <th>2</th>\n",
       "      <th>3</th>\n",
       "      <th>4</th>\n",
       "      <th>5</th>\n",
       "      <th>6</th>\n",
       "      <th>7</th>\n",
       "      <th>8</th>\n",
       "      <th>9</th>\n",
       "      <th>10</th>\n",
       "      <th>11</th>\n",
       "      <th>12</th>\n",
       "      <th>13</th>\n",
       "      <th>14</th>\n",
       "      <th>15</th>\n",
       "      <th>16</th>\n",
       "      <th>17</th>\n",
       "    </tr>\n",
       "  </thead>\n",
       "  <tbody>\n",
       "    <tr>\n",
       "      <th>0</th>\n",
       "      <td>9.974322</td>\n",
       "      <td>3.37729</td>\n",
       "      <td>1.220834</td>\n",
       "      <td>1.117889</td>\n",
       "      <td>0.835006</td>\n",
       "      <td>0.63055</td>\n",
       "      <td>0.30718</td>\n",
       "      <td>0.219004</td>\n",
       "      <td>0.102431</td>\n",
       "      <td>0.073132</td>\n",
       "      <td>0.054885</td>\n",
       "      <td>0.041868</td>\n",
       "      <td>0.025557</td>\n",
       "      <td>0.020425</td>\n",
       "      <td>0.000324</td>\n",
       "      <td>0.005708</td>\n",
       "      <td>0.010497</td>\n",
       "      <td>0.014024</td>\n",
       "    </tr>\n",
       "  </tbody>\n",
       "</table>\n",
       "</div>"
      ],
      "text/plain": [
       "         0        1         2         3         4        5        6   \\\n",
       "0  9.974322  3.37729  1.220834  1.117889  0.835006  0.63055  0.30718   \n",
       "\n",
       "         7         8         9         10        11        12        13  \\\n",
       "0  0.219004  0.102431  0.073132  0.054885  0.041868  0.025557  0.020425   \n",
       "\n",
       "         14        15        16        17  \n",
       "0  0.000324  0.005708  0.010497  0.014024  "
      ]
     },
     "execution_count": 149,
     "metadata": {},
     "output_type": "execute_result"
    }
   ],
   "source": [
    "print(\"Eigen Values:\")\n",
    "pd.DataFrame(eig_vals).transpose()"
   ]
  },
  {
   "cell_type": "code",
   "execution_count": 150,
   "id": "500405c9",
   "metadata": {},
   "outputs": [
    {
     "data": {
      "text/plain": [
       "0.5531785173594633"
      ]
     },
     "execution_count": 150,
     "metadata": {},
     "output_type": "execute_result"
    }
   ],
   "source": [
    "eig_vals[0] / sum(eig_vals)"
   ]
  },
  {
   "cell_type": "markdown",
   "id": "0e7491c7",
   "metadata": {},
   "source": [
    "The first vector has 55% "
   ]
  },
  {
   "cell_type": "code",
   "execution_count": 151,
   "id": "56cbc000",
   "metadata": {},
   "outputs": [
    {
     "name": "stdout",
     "output_type": "stream",
     "text": [
      "Cumulative Variance Explained [ 55.31785174  74.04839364  80.81917065  87.01901109  91.64997775\n",
      "  95.14702492  96.8506525   98.06525662  98.633343    99.03893737\n",
      "  99.34332934  99.57552914  99.71727071  99.83054598  99.90832565\n",
      "  99.96654394  99.99820247 100.        ]\n"
     ]
    }
   ],
   "source": [
    "tot = sum(eig_vals)\n",
    "var_exp = [( i /tot ) * 100 for i in sorted(eig_vals, reverse=True)]\n",
    "cum_var_exp = np.cumsum(var_exp)   # array of size =  as many PC dimensions\n",
    "print(\"Cumulative Variance Explained\", cum_var_exp)"
   ]
  },
  {
   "cell_type": "code",
   "execution_count": 152,
   "id": "caadcacd",
   "metadata": {},
   "outputs": [
    {
     "data": {
      "image/png": "[encoded data removed]",
      "text/plain": [
       "<Figure size 1080x432 with 1 Axes>"
      ]
     },
     "metadata": {
      "needs_background": "light"
     },
     "output_type": "display_data"
    }
   ],
   "source": [
    "plt.figure(figsize=(15 , 6))\n",
    "plt.bar(range(1, eig_vals.size + 1), var_exp, alpha = 0.5, align = 'center', label = 'Individual explained variance')\n",
    "plt.step(range(1, eig_vals.size + 1), cum_var_exp, where='mid', label = 'Cumulative explained variance')\n",
    "plt.ylabel('Explained Variance Ratio')\n",
    "plt.xlabel('Principal Components')\n",
    "plt.legend(loc = 'best')\n",
    "plt.tight_layout()\n",
    "plt.show()"
   ]
  },
  {
   "cell_type": "markdown",
   "id": "bc062a1e",
   "metadata": {},
   "source": [
    "We will choose first 6 axises"
   ]
  },
  {
   "cell_type": "code",
   "execution_count": 153,
   "id": "2bca121d",
   "metadata": {},
   "outputs": [],
   "source": [
    "# Make a set of (eigenvalue, eigenvector) pairs\n",
    "eig_pairs = [(eig_vals[index], eig_vecs[index]) for index in range(len(eig_vals))]\n",
    "\n",
    "# Sort the (eigenvalue, eigenvector) pairs from highest to lowest with respect to eigenvalue by default take first field for sorting\n",
    "eig_pairs.sort(reverse=True)\n",
    "\n",
    "\n",
    "# Note: always form pair of eigen vector and values  first before sorting...\n",
    "\n",
    "# Extract the descending ordered eigenvalues and eigenvectors\n",
    "eigvalues_sorted = [eig_pairs[index][0] for index in range(len(eig_vals))]\n",
    "eigvectors_sorted = [eig_pairs[index][1] for index in range(len(eig_vals))]"
   ]
  },
  {
   "cell_type": "code",
   "execution_count": 154,
   "id": "069459c5",
   "metadata": {},
   "outputs": [],
   "source": [
    "#Dimesionality reduction \n",
    "\n",
    "P_reduce = np.array(eigvectors_sorted[0:8]).transpose()   # Selecting first 8 eigen vector out if 18\n",
    "\n",
    "Proj_train_data = np.dot(X_train_scaled,P_reduce)   # projecting training data onto the eight eigen vectors\n",
    "\n",
    "Proj_test_data = np.dot(X_test_scaled,P_reduce)    # projecting test data onto the eight eigen vectors"
   ]
  },
  {
   "cell_type": "code",
   "execution_count": 155,
   "id": "a1048541",
   "metadata": {},
   "outputs": [
    {
     "data": {
      "text/plain": [
       "((583, 8), (583,), (254, 8), (254,))"
      ]
     },
     "execution_count": 155,
     "metadata": {},
     "output_type": "execute_result"
    }
   ],
   "source": [
    "#Check shapes of train and test new feature and target set after PCA\n",
    "Proj_train_data.shape,y_to_train.shape,Proj_test_data.shape,y_to_test.shape"
   ]
  },
  {
   "cell_type": "code",
   "execution_count": 156,
   "id": "afc50e6f",
   "metadata": {},
   "outputs": [
    {
     "data": {
      "text/plain": [
       "MLPClassifier(hidden_layer_sizes=(1024, 512, 256), max_iter=1000)"
      ]
     },
     "execution_count": 156,
     "metadata": {},
     "output_type": "execute_result"
    }
   ],
   "source": [
    "from sklearn.neural_network import MLPClassifier\n",
    "\n",
    "mlp = MLPClassifier(max_iter=1000, activation='relu',hidden_layer_sizes=(1024, 512, 256))\n",
    "mlp.fit(Proj_train_data,y_to_train)"
   ]
  },
  {
   "cell_type": "code",
   "execution_count": 157,
   "id": "83002798",
   "metadata": {},
   "outputs": [],
   "source": [
    "predictions = mlp.predict(Proj_test_data)\n"
   ]
  },
  {
   "cell_type": "code",
   "execution_count": 158,
   "id": "73879433",
   "metadata": {},
   "outputs": [
    {
     "name": "stdout",
     "output_type": "stream",
     "text": [
      "[[63  1  0  2]\n",
      " [ 3 40 10  2]\n",
      " [ 2 37 33  0]\n",
      " [ 2  4  1 54]]\n",
      "              precision    recall  f1-score   support\n",
      "\n",
      "         bus       0.90      0.95      0.93        66\n",
      "        opel       0.49      0.73      0.58        55\n",
      "        saab       0.75      0.46      0.57        72\n",
      "         van       0.93      0.89      0.91        61\n",
      "\n",
      "    accuracy                           0.75       254\n",
      "   macro avg       0.77      0.76      0.75       254\n",
      "weighted avg       0.78      0.75      0.75       254\n",
      "\n"
     ]
    }
   ],
   "source": [
    "from sklearn.metrics import classification_report, confusion_matrix\n",
    "\n",
    "print(confusion_matrix(y_to_test,predictions))\n",
    "print(classification_report(y_to_test,predictions))"
   ]
  },
  {
   "cell_type": "code",
   "execution_count": 159,
   "id": "d4aec17f",
   "metadata": {},
   "outputs": [
    {
     "name": "stdout",
     "output_type": "stream",
     "text": [
      "[[63  1  0  2]\n",
      " [ 4 36 14  1]\n",
      " [ 5 41 24  2]\n",
      " [ 3  5  1 52]]\n",
      "              precision    recall  f1-score   support\n",
      "\n",
      "         bus       0.84      0.95      0.89        66\n",
      "        opel       0.43      0.65      0.52        55\n",
      "        saab       0.62      0.33      0.43        72\n",
      "         van       0.91      0.85      0.88        61\n",
      "\n",
      "    accuracy                           0.69       254\n",
      "   macro avg       0.70      0.70      0.68       254\n",
      "weighted avg       0.71      0.69      0.68       254\n",
      "\n"
     ]
    }
   ],
   "source": [
    "mlp2 = MLPClassifier(max_iter=3000, activation='logistic', hidden_layer_sizes=(1000, 900))\n",
    "mlp2.fit(Proj_train_data,y_to_train)\n",
    "\n",
    "predictions2 = mlp2.predict(Proj_test_data)\n",
    "\n",
    "print(confusion_matrix(y_to_test,predictions2))\n",
    "print(classification_report(y_to_test,predictions2))"
   ]
  },
  {
   "cell_type": "code",
   "execution_count": 160,
   "id": "6de77327",
   "metadata": {},
   "outputs": [],
   "source": [
    "# Experiment with gridSearch\n",
    "param_grid = {'solver': ['lbfgs', 'sgd', 'adam'], 'activation': ['identity', 'logistic', 'tanh', 'relu'], 'learning_rate': ['constant', 'invscaling', 'adaptive']} "
   ]
  },
  {
   "cell_type": "code",
   "execution_count": 161,
   "id": "72e68cdd",
   "metadata": {},
   "outputs": [],
   "source": [
    "from sklearn.model_selection import GridSearchCV\n",
    "\n",
    "grid = GridSearchCV(MLPClassifier(max_iter=1000, hidden_layer_sizes=(1024, 512, 256)),param_grid,refit=True,verbose=3)"
   ]
  },
  {
   "cell_type": "code",
   "execution_count": null,
   "id": "985c6392",
   "metadata": {},
   "outputs": [
    {
     "name": "stdout",
     "output_type": "stream",
     "text": [
      "Fitting 5 folds for each of 36 candidates, totalling 180 fits\n",
      "[CV 1/5] END activation=identity, learning_rate=constant, solver=lbfgs;, score=0.701 total time=  12.5s\n",
      "[CV 2/5] END activation=identity, learning_rate=constant, solver=lbfgs;, score=0.632 total time=  11.7s\n",
      "[CV 3/5] END activation=identity, learning_rate=constant, solver=lbfgs;, score=0.624 total time=   9.7s\n",
      "[CV 4/5] END activation=identity, learning_rate=constant, solver=lbfgs;, score=0.681 total time=  10.2s\n",
      "[CV 5/5] END activation=identity, learning_rate=constant, solver=lbfgs;, score=0.638 total time=  10.3s\n",
      "[CV 1/5] END activation=identity, learning_rate=constant, solver=sgd;, score=0.692 total time=  45.5s\n",
      "[CV 2/5] END activation=identity, learning_rate=constant, solver=sgd;, score=0.607 total time=  40.4s\n",
      "[CV 3/5] END activation=identity, learning_rate=constant, solver=sgd;, score=0.667 total time=  40.3s\n",
      "[CV 4/5] END activation=identity, learning_rate=constant, solver=sgd;, score=0.655 total time=  35.7s\n",
      "[CV 5/5] END activation=identity, learning_rate=constant, solver=sgd;, score=0.647 total time=  40.0s\n",
      "[CV 1/5] END activation=identity, learning_rate=constant, solver=adam;, score=0.692 total time=   4.6s\n",
      "[CV 2/5] END activation=identity, learning_rate=constant, solver=adam;, score=0.658 total time=   3.3s\n",
      "[CV 3/5] END activation=identity, learning_rate=constant, solver=adam;, score=0.615 total time=   3.8s\n",
      "[CV 4/5] END activation=identity, learning_rate=constant, solver=adam;, score=0.647 total time=   4.6s\n",
      "[CV 5/5] END activation=identity, learning_rate=constant, solver=adam;, score=0.638 total time=   4.0s\n",
      "[CV 1/5] END activation=identity, learning_rate=invscaling, solver=lbfgs;, score=0.701 total time=   8.9s\n",
      "[CV 2/5] END activation=identity, learning_rate=invscaling, solver=lbfgs;, score=0.632 total time=   9.3s\n",
      "[CV 3/5] END activation=identity, learning_rate=invscaling, solver=lbfgs;, score=0.632 total time=  10.0s\n",
      "[CV 4/5] END activation=identity, learning_rate=invscaling, solver=lbfgs;, score=0.681 total time=   9.8s\n",
      "[CV 5/5] END activation=identity, learning_rate=invscaling, solver=lbfgs;, score=0.638 total time=   9.4s\n",
      "[CV 1/5] END activation=identity, learning_rate=invscaling, solver=sgd;, score=0.470 total time=  25.0s\n",
      "[CV 2/5] END activation=identity, learning_rate=invscaling, solver=sgd;, score=0.393 total time=  26.0s\n",
      "[CV 3/5] END activation=identity, learning_rate=invscaling, solver=sgd;, score=0.462 total time=  31.8s\n",
      "[CV 4/5] END activation=identity, learning_rate=invscaling, solver=sgd;, score=0.440 total time=  25.8s\n",
      "[CV 5/5] END activation=identity, learning_rate=invscaling, solver=sgd;, score=0.474 total time=  24.3s\n",
      "[CV 1/5] END activation=identity, learning_rate=invscaling, solver=adam;, score=0.701 total time=   6.2s\n",
      "[CV 2/5] END activation=identity, learning_rate=invscaling, solver=adam;, score=0.641 total time=   4.3s\n",
      "[CV 3/5] END activation=identity, learning_rate=invscaling, solver=adam;, score=0.615 total time=   3.5s\n",
      "[CV 4/5] END activation=identity, learning_rate=invscaling, solver=adam;, score=0.681 total time=   3.8s\n",
      "[CV 5/5] END activation=identity, learning_rate=invscaling, solver=adam;, score=0.621 total time=   4.4s\n",
      "[CV 1/5] END activation=identity, learning_rate=adaptive, solver=lbfgs;, score=0.701 total time=   9.9s\n",
      "[CV 2/5] END activation=identity, learning_rate=adaptive, solver=lbfgs;, score=0.632 total time=   9.2s\n",
      "[CV 3/5] END activation=identity, learning_rate=adaptive, solver=lbfgs;, score=0.632 total time=   8.8s\n",
      "[CV 4/5] END activation=identity, learning_rate=adaptive, solver=lbfgs;, score=0.672 total time=   8.6s\n",
      "[CV 5/5] END activation=identity, learning_rate=adaptive, solver=lbfgs;, score=0.638 total time=   8.7s\n",
      "[CV 1/5] END activation=identity, learning_rate=adaptive, solver=sgd;, score=0.701 total time=  56.1s\n"
     ]
    }
   ],
   "source": [
    "grid.fit(Proj_train_data,y_to_train)\n"
   ]
  },
  {
   "cell_type": "code",
   "execution_count": null,
   "id": "3f4a9c10",
   "metadata": {},
   "outputs": [],
   "source": [
    "grid.best_params_"
   ]
  },
  {
   "cell_type": "code",
   "execution_count": null,
   "id": "33af0716",
   "metadata": {},
   "outputs": [],
   "source": [
    "grid_predictions = grid.predict(Proj_test_data)"
   ]
  },
  {
   "cell_type": "code",
   "execution_count": null,
   "id": "9e1fd903",
   "metadata": {},
   "outputs": [],
   "source": [
    "print(confusion_matrix(y_to_test, grid_predictions))\n",
    "print(classification_report(y_to_test, grid_predictions))"
   ]
  },
  {
   "cell_type": "code",
   "execution_count": null,
   "id": "a17bc7ba",
   "metadata": {},
   "outputs": [],
   "source": []
  }
 ],
 "metadata": {
  "kernelspec": {
   "display_name": "Python 3 (ipykernel)",
   "language": "python",
   "name": "python3"
  },
  "language_info": {
   "codemirror_mode": {
    "name": "ipython",
    "version": 3
   },
   "file_extension": ".py",
   "mimetype": "text/x-python",
   "name": "python",
   "nbconvert_exporter": "python",
   "pygments_lexer": "ipython3",
   "version": "3.9.7"
  }
 },
 "nbformat": 4,
 "nbformat_minor": 5
}
